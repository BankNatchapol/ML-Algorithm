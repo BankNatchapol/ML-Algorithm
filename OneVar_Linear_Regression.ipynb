{
  "nbformat": 4,
  "nbformat_minor": 0,
  "metadata": {
    "colab": {
      "name": "OneVar-Linear-Regression.ipynb",
      "provenance": [],
      "collapsed_sections": [],
      "authorship_tag": "ABX9TyOsM8uirjtv1hqO/WON+DbD",
      "include_colab_link": true
    },
    "kernelspec": {
      "name": "python3",
      "display_name": "Python 3"
    }
  },
  "cells": [
    {
      "cell_type": "markdown",
      "metadata": {
        "id": "view-in-github",
        "colab_type": "text"
      },
      "source": [
        "<a href=\"https://colab.research.google.com/github/BankNatchapol/ML-Algorithm/blob/master/OneVar_Linear_Regression.ipynb\" target=\"_parent\"><img src=\"https://colab.research.google.com/assets/colab-badge.svg\" alt=\"Open In Colab\"/></a>"
      ]
    },
    {
      "cell_type": "markdown",
      "metadata": {
        "id": "09a37j0BW3ml",
        "colab_type": "text"
      },
      "source": [
        "#**One Variable Linear Regression**\n",
        "---\n",
        "*One variable linear regression* คือ โมเดลทางสถิติที่สามารถบอกถึงความสัมพันธ์ ของตัวแปลต้น 1 ตัวและตัวแปรตามได้ <br><br> \n",
        "ซึ่ง linear regression สามารถเขียน **hypothesis function** ได้ว่า <br><br>\n",
        "\\begin{equation}\n",
        "h_\\theta (x) = \\theta _0 + \\theta _1x\n",
        "\\end{equation} <br><br> \n",
        "และ **cost function** หรือ loss function ได้ว่า <br><br> \n",
        "\\begin{equation}\n",
        "J(\\theta_0,\\theta_1) = \\frac{1}{2m}\\sum^m_{i=1}(h_\\theta(x^{(i)}) - y^{(i)})^2\n",
        "\\end{equation}<br><br>"
      ]
    },
    {
      "cell_type": "code",
      "metadata": {
        "id": "-loiVnCEZAYZ",
        "colab_type": "code",
        "colab": {}
      },
      "source": [
        "import numpy as np # For calculation \n",
        "import matplotlib.pyplot as plt # For plot \n",
        "\n",
        "def costFunction(s0,s1,m): # Function that return cost \n",
        "  '''\n",
        "    s0: seta#0\n",
        "    s1: seta#1\n",
        "    m: the number of members in array\n",
        "  '''\n",
        "  diff = s0 + s1*x - y\n",
        "  summa = sum(map(lambda x:x**2,diff))\n",
        "  return (1/(2*m))*summa"
      ],
      "execution_count": 0,
      "outputs": []
    },
    {
      "cell_type": "markdown",
      "metadata": {
        "id": "XAMMJhEviJkG",
        "colab_type": "text"
      },
      "source": [
        "##**Hyperparameters**\n",
        "ในส่วนของ parameter ที่เราจำเป็นต้องกำหนดค่านั้นจะมีอยู่ 2 ตัวด้วยกัน <br>\n",
        ">1. initial point หรือค่า $\\theta_j$ เริ่มต้น\n",
        ">2. learning rate หรือค่า $\\alpha$"
      ]
    },
    {
      "cell_type": "code",
      "metadata": {
        "id": "Uwbvl5hRp6Tl",
        "colab_type": "code",
        "colab": {}
      },
      "source": [
        "s0 = 0\n",
        "s1 = 0\n",
        "alpha = 0.05 # learning rate"
      ],
      "execution_count": 0,
      "outputs": []
    },
    {
      "cell_type": "markdown",
      "metadata": {
        "id": "JEItxhZsqs3j",
        "colab_type": "text"
      },
      "source": [
        "ในการที่จะ ปรับค่า $\\theta_j$ ให้เป็นค่าที่ทำให้ hypothesis function สามารถประมาณค่า output ได้ และ ทำให้ cost function มีค่าน้อยที่สุด สามารถทำได้โดยใช้ **Gradient Descent Algorithm**<br>\n",
        ">while (! convergence) {<br>\n",
        "$\\;\\;\\;\\;\\;\\;\\;\\theta_j:=\\theta_j - \\alpha\\frac{\\partial}{\\partial\\theta_j}J(\\theta_0,\\theta_1)$<br>\n",
        "}"
      ]
    },
    {
      "cell_type": "code",
      "metadata": {
        "id": "-Dtj_DKJxse1",
        "colab_type": "code",
        "outputId": "e9b7e33a-98e4-48b2-c70b-31801c6394fe",
        "colab": {
          "base_uri": "https://localhost:8080/",
          "height": 298
        }
      },
      "source": [
        "x = np.array([3,1,0,4,10,5,3,4,8,7,5,1,5,4,6]) #input array \n",
        "y = np.array([2,2,1,3,6,4,3,4,5,5,4,1,5,3,5]) #result array\n",
        "plt.scatter(x,y)\n",
        "plt.title('x,y')"
      ],
      "execution_count": 0,
      "outputs": [
        {
          "output_type": "execute_result",
          "data": {
            "text/plain": [
              "Text(0.5, 1.0, 'x,y')"
            ]
          },
          "metadata": {
            "tags": []
          },
          "execution_count": 50
        },
        {
          "output_type": "display_data",
          "data": {
            "image/png": "[encoded data removed]",
            "text/plain": [
              "<Figure size 432x288 with 1 Axes>"
            ]
          },
          "metadata": {
            "tags": []
          }
        }
      ]
    },
    {
      "cell_type": "code",
      "metadata": {
        "id": "1fUzjXBRgkC2",
        "colab_type": "code",
        "colab": {}
      },
      "source": [
        "m = len(x)\n",
        "dif = s0 + s1*x -  y\n",
        "gradient0 = sum(dif)/m\n",
        "gradient1 = sum(dif*x)/m"
      ],
      "execution_count": 0,
      "outputs": []
    },
    {
      "cell_type": "markdown",
      "metadata": {
        "id": "IRCvHqpbusru",
        "colab_type": "text"
      },
      "source": [
        "ซึ่งสามารถเขียนย่อยออกมาเป็นสมการได้ว่า<br>\n",
        ">while (! convergence) {<br>\n",
        "$\\;\\;\\;\\;\\;\\;\\;\\theta_0:=\\theta_0-\\alpha\\frac{1}{m}\\sum^m_{i=1}(\\theta_0+\\theta_1x^{(i)}-y^{(i)})$<br>\n",
        "$\\;\\;\\;\\;\\;\\;\\;\\theta_1:=\\theta_1-\\alpha\\frac{1}{m}\\sum^m_{i=1}(\\theta_0+\\theta_1x^{(i)}-y^{(i)})x^{(i)}$<br>\n",
        "}"
      ]
    },
    {
      "cell_type": "code",
      "metadata": {
        "id": "kqph2vKfaTAV",
        "colab_type": "code",
        "outputId": "e814694b-9ac0-4edf-e417-6256e4b4f5a8",
        "colab": {
          "base_uri": "https://localhost:8080/",
          "height": 50
        }
      },
      "source": [
        "costLog = []\n",
        "for i in range(1000): # Learning\n",
        "   diff = s0 + s1*x - y\n",
        "   gradient0 = sum(diff)/m\n",
        "   gradient1 = sum(diff*x)/m\n",
        "   s0 = s0 - alpha*gradient0\n",
        "   s1 = s1 - alpha*gradient1\n",
        "   costLog.append(costFunction(s0,s1,m))\n",
        "   \n",
        "print(f's0 = {s0}\\ns1 = {s1}')"
      ],
      "execution_count": 0,
      "outputs": [
        {
          "output_type": "stream",
          "text": [
            "s0 = 1.16010175007572\n",
            "s1 = 0.5393706290173826\n"
          ],
          "name": "stdout"
        }
      ]
    },
    {
      "cell_type": "markdown",
      "metadata": {
        "id": "fx05IQVlx5JL",
        "colab_type": "text"
      },
      "source": [
        "เมื่อดูค่า cost ในแต่ละการ update จะพบว่า ค่าcost จะลดลงเรื่อยๆจนเข้าใกล้ 0"
      ]
    },
    {
      "cell_type": "code",
      "metadata": {
        "id": "XFDia-41jImV",
        "colab_type": "code",
        "outputId": "e25412c3-8b2f-4ea3-bee5-b761de46e38f",
        "colab": {
          "base_uri": "https://localhost:8080/",
          "height": 281
        }
      },
      "source": [
        "plt.plot(range(len(costLog)),costLog);\n",
        "plt.title('Cost is converging');"
      ],
      "execution_count": 0,
      "outputs": [
        {
          "output_type": "display_data",
          "data": {
            "image/png": "[encoded data removed]",
            "text/plain": [
              "<Figure size 432x288 with 1 Axes>"
            ]
          },
          "metadata": {
            "tags": []
          }
        }
      ]
    },
    {
      "cell_type": "code",
      "metadata": {
        "id": "o_YoSxUOhk3-",
        "colab_type": "code",
        "colab": {}
      },
      "source": [
        "para = np.array([[s0,s1]]).T\n",
        "domain = np.array([[1]*12,range(12)]).T\n",
        "result = np.dot(domain[:12],para)"
      ],
      "execution_count": 0,
      "outputs": []
    },
    {
      "cell_type": "markdown",
      "metadata": {
        "id": "xefRlPWnxUJI",
        "colab_type": "text"
      },
      "source": [
        "เมื่อนำสัมประสิทธิ์ $\\theta_0$ และ $\\theta_1$ มาแทนใน hypothesis function และ plot ออกมาก็จะได้ผลลัพท์ของ linear regression"
      ]
    },
    {
      "cell_type": "code",
      "metadata": {
        "id": "Ky3cGiTOfjNb",
        "colab_type": "code",
        "outputId": "a530c313-1838-49de-f14e-1bfbec455f50",
        "colab": {
          "base_uri": "https://localhost:8080/",
          "height": 281
        }
      },
      "source": [
        "plt.scatter(x,y)\n",
        "plt.plot(range(12),result)\n",
        "plt.title('Linear Regression');"
      ],
      "execution_count": 0,
      "outputs": [
        {
          "output_type": "display_data",
          "data": {
            "image/png": "[encoded data removed]",
            "text/plain": [
              "<Figure size 432x288 with 1 Axes>"
            ]
          },
          "metadata": {
            "tags": []
          }
        }
      ]
    }
  ]
}