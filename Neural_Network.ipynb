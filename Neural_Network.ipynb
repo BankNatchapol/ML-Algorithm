{
  "nbformat": 4,
  "nbformat_minor": 0,
  "metadata": {
    "colab": {
      "name": "Neural Network.ipynb",
      "provenance": [],
      "collapsed_sections": [],
      "authorship_tag": "ABX9TyPpO4aGHWkTCGiwIu6ftnzo",
      "include_colab_link": true
    },
    "kernelspec": {
      "name": "python3",
      "display_name": "Python 3"
    }
  },
  "cells": [
    {
      "cell_type": "markdown",
      "metadata": {
        "id": "view-in-github",
        "colab_type": "text"
      },
      "source": [
        "<a href=\"https://colab.research.google.com/github/BankNatchapol/ML-Algorithm/blob/master/Neural_Network.ipynb\" target=\"_parent\"><img src=\"https://colab.research.google.com/assets/colab-badge.svg\" alt=\"Open In Colab\"/></a>"
      ]
    },
    {
      "cell_type": "markdown",
      "metadata": {
        "id": "QodOS2-NwmqG",
        "colab_type": "text"
      },
      "source": [
        "# **Neural Network**\n",
        "---\n",
        "Neural Network เป็นหนึ่งใน algorithm ที่นิยมมากในปัจจุบันเนื่องจากความแม่นยำของมัน และ ยิ่งหลังจากที่มี Backpropagation เกิดขึ้นยิ่งทำให้การใช้งานมันง่ายยิ่งขึ้นเพราะเราไม่ต้องมาปรับ parameter ภายในแต่ละ layer เอง <br>\n",
        "ซึ่งประโยชน์ของการใช้งาน Neural Network ก็มีมากมายไม่ว่าจะเป็นการประยุกต์ใช้ใน Autonomous Vehicle หรือในการทำ OCR <br><br>\n",
        "ในครั้งนี้ก็จะเป็นการใช้ Numpy ในการทำ Neural Network จากสมการพื้นฐาน<br>\n",
        "โดย Architecture ของ Neural Network ที่ผมทำจะเป็น 2 hidden layer <br>\n",
        "input มี 2 features แบบง่ายๆ <br>\n",
        "target เป็นค่า 0,1<br>\n",
        "Architecture จะเป็นดังภาพ\n",
        "![alt text](https://github.com/BankNatchapol/ML-Algorithm/blob/master/NetworkArch.jpg?raw=true)\n",
        "\n"
      ]
    },
    {
      "cell_type": "code",
      "metadata": {
        "id": "sk5VC-tlbODk",
        "colab_type": "code",
        "colab": {}
      },
      "source": [
        "import numpy as np\n",
        "import matplotlib.pyplot as plt"
      ],
      "execution_count": 0,
      "outputs": []
    },
    {
      "cell_type": "markdown",
      "metadata": {
        "id": "4bSSpI593bwg",
        "colab_type": "text"
      },
      "source": [
        "โดยในครั้งนี้จะใช้ Activation function เป็น Sigmoid function แล้วก็สร้าง hypothesis function ออกมา<br><br>\n",
        "$Sigmoid function$\n",
        "\\begin{equation}\n",
        "\\sigma(z) = \\frac{1}{1 + e^{-z}}\n",
        "\\end{equation}\n",
        "$hypothesis function$ \n",
        "<br><br>\n",
        "\\begin{equation}\n",
        "h_{\\theta}(x) = \\sigma(\\theta^Tx)\n",
        "\\end{equation}<br>\n",
        "ในส่วนของ Forward propagation คือ การหา hypothesis ของทุกๆ layer โดยจะเขียนแทน hypothesis ของแต่ละชั้นว่า $a^{(l)}_j$  \n",
        "![alt text](https://github.com/BankNatchapol/ML-Algorithm/blob/master/Forward.jpg?raw=true)\n",
        "โดยที่ <br>\n",
        "$l$ คือ ลำดับที่ของ layer<br>\n",
        "$j$ คือลำดับที่ของ unit"
      ]
    },
    {
      "cell_type": "code",
      "metadata": {
        "id": "YqSfK_Sjbfqh",
        "colab_type": "code",
        "colab": {}
      },
      "source": [
        "def sigmoid(z): \n",
        "  return 1/(1+np.exp(-z))\n",
        "\n",
        "def hypothesis(theta,X):\n",
        "  X_1 = np.ones([X.shape[0],X.shape[1]+1])\n",
        "  X_1[:,1:] = X\n",
        "  z = np.dot(X_1,theta.T)\n",
        "  return [sigmoid(z),z]\n",
        "\n",
        "def forwardProp(theta,X,num_layer):\n",
        "  A = []\n",
        "  z = []\n",
        "  for i in range(num_layer-1):\n",
        "    [X,Z] = hypothesis(theta[i],X)\n",
        "    A.append(X)\n",
        "    z.append(Z)\n",
        "  return [A,z]"
      ],
      "execution_count": 0,
      "outputs": []
    },
    {
      "cell_type": "markdown",
      "metadata": {
        "id": "_yHsQqZk9P13",
        "colab_type": "text"
      },
      "source": [
        "ในขั้นตอนต่อไปจะเป็นการทำ Backpropagation เพื่อหา <br><br>\n",
        "\\begin{equation}\n",
        "\\frac{\\partial}{\\partial\\Theta^{(l)}_{ij}}J(\\Theta)\n",
        "\\end{equation}<br>\n",
        "เพื่อนำไปใช้ใน Optimizer algorithm อื่นๆเช่น Gradient Descent<br>\n",
        "ซึ่งการทำฺ Backpropagation นั้นมี idea มาจากกฏ Chain rule<br><br>\n",
        "\\begin{equation}\n",
        "\\frac{\\partial}{\\partial\\Theta^{(3)}}J(\\Theta) =\\color{red}{\\frac{\\partial J(\\Theta)}{\\partial a^{(4)}}\\frac{\\partial a^{(4)}}{\\partial z^{(4)}}}\\frac{\\partial z^{(4)}}{\\partial \\Theta^{(3)}}\n",
        "\\end{equation}<br>\n",
        "\\begin{equation}\n",
        "\\frac{\\partial}{\\partial\\Theta^{(2)}}J(\\Theta) =\\color{red}{\\frac{\\partial J(\\Theta)}{\\partial a^{(4)}}\\frac{\\partial a^{(4)}}{\\partial z^{(4)}}}\\color{green}{\\frac{\\partial z^{(4)}}{\\partial a^{(3)}}\\frac{\\partial a^{(3)}}{\\partial z^{(3)}}}\\frac{\\partial z^{(3)}}{\\partial \\Theta^{(2)}}\n",
        "\\end{equation}<br>\n",
        "\\begin{equation}\n",
        "\\frac{\\partial}{\\partial\\Theta^{(1)}}J(\\Theta) =\\color{red}{\\frac{\\partial J(\\Theta)}{\\partial a^{(4)}}\\frac{\\partial a^{(4)}}{\\partial z^{(4)}}}\\color{green}{\\frac{\\partial z^{(4)}}{\\partial a^{(3)}}\\frac{\\partial a^{(3)}}{\\partial z^{(3)}}}\\color{blue}{\\frac{\\partial z^{(3)}}{\\partial a^{(2)}}\\frac{\\partial a^{(2)}}{\\partial z^{(2)}}}\\frac{\\partial z^{(2)}}{\\partial \\Theta^{(1)}}\n",
        "\\end{equation}<br>\n",
        "โดยที่ <br>\n",
        "$z^{(l)} = \\Theta^{(l-1)T}a^{(l-1)}$<br>\n",
        "$a^{(l)} = \\sigma(z^{(l)}) $\n",
        "<br><br>\n",
        "จะเห็นได้ว่าในการหาค่า gradient ของ $\\Theta$ ที่มี layer น้อยลงมาเรื่อยๆจะมีการใช้ค่าจากส่วนของ gradient ใน layer ชั้นที่มากกว่า ซึ่งตรงส่วนนี้เราจะแทนสัญลักษณ์ด้วย $\\delta$ ซึ่งเมื่อเราทำ partial derivative เราจะได้ผลลัพท์ตามนี้<br><br> \n",
        "\\begin{equation}\n",
        "\\delta^{(4)}=\\frac{\\partial}{\\partial z^{(4)}}J(\\Theta) = a^{(4)} - y\n",
        "\\end{equation}<br>\n",
        "\\begin{equation}\n",
        "\\delta^{(3)}=\\frac{\\partial}{\\partial z^{(3)}}J(\\Theta) =\\Theta^{(3)T}\\delta^{(4)} *\\sigma(z^{(3)})(1-\\sigma(z^{(3)}))\n",
        "\\end{equation}<br>\n",
        "\\begin{equation}\n",
        "\\delta^{(2)}=\\frac{\\partial}{\\partial z^{(2)}}J(\\Theta) =\\Theta^{(2)T}\\delta^{(3)} *\\sigma(z^{(2)})(1-\\sigma(z^{(2)}))\n",
        "\\end{equation}<br>\n",
        "จากสมการ $\\delta$ ที่ได้เราจะเห็น pattern ของมันว่าสามารถเขียนเป็นสมการได้ดังนี้<br><br>\n",
        "เมื่อ $L$ คือ จำนวน layer ทั้งหมด<br><br>\n",
        "\\begin{equation}\n",
        "\\delta^{(L)} = a^{(L)} - y\n",
        "\\end{equation}<br>\n",
        "\\begin{equation}\n",
        "\\delta^{(l)}=\\Theta^{(l)T}\\delta^{(l+1)} *\\sigma(z^{(l)})(1-\\sigma(z^{(l)}));\\;\\; l=2,3,...,L-1\n",
        "\\end{equation}<br><br>\n",
        "\n",
        "\n",
        "ก็จะได้ค่า $\\delta$ ที่รอนำไปใช้ต่อไป\n"
      ]
    },
    {
      "cell_type": "code",
      "metadata": {
        "id": "zu6Nllrv3X-n",
        "colab_type": "code",
        "colab": {}
      },
      "source": [
        "def sigmoidGrad(z):# Sigmoid Gradient Function\n",
        "  return sigmoid(z)*(1-sigmoid(z))\n",
        "\n",
        "def sigma(theta,nextSigma,z):\n",
        "  return np.dot(nextSigma,theta)[:,1:]*sigmoidGrad(z)\n",
        "\n",
        "def backProp(theta,X,Y,A,z,num_layer):\n",
        "  sigmas = []\n",
        "  nextSigma = A[num_layer-2] - Y\n",
        "  sigmas.insert(0,nextSigma)\n",
        "  for i in range(num_layer-2,0,-1):\n",
        "    nextSigma = sigma(theta[i],nextSigma,z[i-1])\n",
        "    sigmas.insert(0,nextSigma)\n",
        "  return sigmas"
      ],
      "execution_count": 0,
      "outputs": []
    },
    {
      "cell_type": "markdown",
      "metadata": {
        "id": "Sk8dTybUl1jl",
        "colab_type": "text"
      },
      "source": [
        "เพิ่ม Regularized term เข้าไปเพื่อปรับค่าในกรณีที่เกิด Overfitting จากสมการ<br><br>\n",
        "\\begin{equation}\n",
        "Reg = \\sum^{L-1}_{l=1}\\sum^{S_L}_{j=1}\\sum^{S_{L+1}}_{i=1}(\\Theta_{ij}^{(l)})^2\n",
        "\\end{equation}<br>\n",
        "$L$ = จำนวน layer<br>\n",
        "$S_L$ = จำนวน Unit ใน layer ที่ L"
      ]
    },
    {
      "cell_type": "code",
      "metadata": {
        "id": "HrWJkuk-9J26",
        "colab_type": "code",
        "colab": {}
      },
      "source": [
        "def regularized(theta,X,lamb):\n",
        "  total = 0\n",
        "  m = X.shape[0]\n",
        "  for i in theta:\n",
        "    total += (lamb/(2*m))*sum(sum(i**2));\n",
        "  return total"
      ],
      "execution_count": 0,
      "outputs": []
    },
    {
      "cell_type": "markdown",
      "metadata": {
        "id": "l-gJV4DQnpZR",
        "colab_type": "text"
      },
      "source": [
        "ทำการหา cost function จากสมการ <br><br>\n",
        "\\begin{equation}\n",
        "J(\\Theta) = -\\frac{1}{m}[\\sum^m_{i=1}\\sum^K_{k=1}y_k^{(i)}log(h_\\theta(x^{(i)})_k)+(1-y_k^{(i)})log(1-h_\\theta(x^{(i)})_k)] + \\frac{\\lambda}{2m}RegularizedTerm\n",
        "\\end{equation}<br>\n",
        "K = จำนวน output\n",
        "<br><br>\n",
        "ในส่วนของ gradient นั้นถ้าดูจากสมการใน Backpropagation<br><br>\n",
        "\\begin{equation}\n",
        "\\frac{\\partial}{\\partial\\Theta^{(3)}}J(\\Theta) =\\color{red}{\\frac{\\partial J(\\Theta)}{\\partial a^{(4)}}\\frac{\\partial a^{(4)}}{\\partial z^{(4)}}}\\frac{\\partial z^{(4)}}{\\partial \\Theta^{(3)}}\n",
        "\\end{equation}<br>\n",
        "จะเห็นได้ว่าเราสามารถจัดรูปให้อยู่ในรูปของ $\\delta$ ที่ได้จากในการทำ Backpropagation ได้<br><br>\n",
        "\\begin{equation}\n",
        "\\frac{\\partial}{\\partial\\Theta^{(3)}}J(\\Theta) =\\color{red}{\\delta^{(4)}}\\frac{\\partial z^{(4)}}{\\partial \\Theta^{(3)}}\n",
        "\\end{equation}<br>\n",
        "หรือสามารถจัดรูปหลังจากการทำ partial differentiate ได้ดังนี้<br><br>\n",
        "\\begin{equation}\n",
        "\\frac{\\partial}{\\partial\\Theta^{(l)}}J(\\Theta) =\\delta^{(4)}a^{(l)T}\n",
        "\\end{equation}<br><br>"
      ]
    },
    {
      "cell_type": "code",
      "metadata": {
        "id": "bWnJ29QtmIbp",
        "colab_type": "code",
        "colab": {}
      },
      "source": [
        "def costGrad(theta,X,Y,num_layer,lamb):\n",
        "  m = X.shape[0]\n",
        "  Delta = []\n",
        "  Theta_grad = []\n",
        "\n",
        "  [A,z] = forwardProp(theta,X,num_layer)\n",
        "\n",
        "  sigmas = backProp(theta,X,Y,A,z,num_layer)\n",
        "\n",
        "  one1 = np.ones([X.shape[0],X.shape[1]+1])\n",
        "  one1[:,1:] = X\n",
        "\n",
        "  Reg = regularized(theta,X,lamb)\n",
        "  J = -(1/m)*sum(sum(Y*np.log(A[-1])+(1-Y)*np.log(1-A[-1])));\n",
        "  J += Reg\n",
        "\n",
        "  Delta.append(np.dot(one1.T,sigmas[0]).T)\n",
        "  for i in range(num_layer-2):\n",
        "    one2 = np.ones([A[i].shape[0],A[i].shape[1]+1])\n",
        "    one2[:,1:] = A[i]\n",
        "    Delta.append(np.dot(one2.T,sigmas[i+1]).T)\n",
        "  \n",
        "  for i in range(num_layer-1):\n",
        "    q = np.zeros(theta[i].shape)\n",
        "    q[:,1:] = theta[i][:,1:]\n",
        "    Theta_grad.append((Delta[i]/m) + (lamb/m)*q)\n",
        "\n",
        "  return [Theta_grad,J]"
      ],
      "execution_count": 0,
      "outputs": []
    },
    {
      "cell_type": "markdown",
      "metadata": {
        "id": "rQTknMnQzUOx",
        "colab_type": "text"
      },
      "source": [
        "ในการทำ Neural Network นั้นตัว model ของเราจะมีความซับซ้อนมากเนื่องจากมีการซ้อนกันของ layer หลายชั้น ยิ่งมีจำนวน layer มากจะยิ่งทำให้การตรวจสอบความถูกต้องนั้นยากเข้าไปอีก <br> การที่เราจะลองใช้การพลอตกราฟเพื่อดูว่าค่า cost ในทุกจุดมีค่าที่ลู่ลงตลอดนั้นทำได้ยาก เราจึงใช้วิธีการที่เรียกว่า Gradient Checking ในการตรวจสอบ<br> <br> \n",
        "ใช้ครั้งนี้จะใช้ method ที่ชื่อว่า Numerical Estimation ในการทำ Gradient Checking <br><br>\n",
        "idea ก็คือ ในการหา gradient นั้นจะเป็นการหาความชันระหว่างจุด 2 จุดบน cost function ที่เล็กมากๆ ซึ่งถ้าเราใช้การประมาณค่าความชันด้วยจุด 2 จุดที่ห่างกันน้อยมากๆ แทนการใช้ Gradient ค่าที่ได้ก็ควรจะมีความไกล้เคียงกัน<br>\n",
        "![alt text](https://github.com/BankNatchapol/ML-Algorithm/blob/master/Checking.jpg?raw=true)\n",
        "จึงสามารถเขียนสมการเพื่อใช้ทำ Numerical Estimation Gradient Checking ได้ดังนี้<br><br>\n",
        "\\begin{equation}\n",
        "\\frac{\\partial}{\\partial\\Theta^{(l)}_{ij}}J(\\Theta) = \\frac{J(\\Theta+\\epsilon)-J(\\Theta-\\epsilon)}{2\\epsilon}\n",
        "\\end{equation}<br><br>\n",
        "โดยที่ <br>\n",
        "$\\epsilon$ มีค่าน้อยมากๆ<br>\n",
        "$\\epsilon^{(l)}_{ij} = \\epsilon\\;;\\;\\; Others\\; =\\; 0$ <br><br>\n"
      ]
    },
    {
      "cell_type": "code",
      "metadata": {
        "id": "YWSoMxHmyDbN",
        "colab_type": "code",
        "colab": {}
      },
      "source": [
        "def gradientNum(theta,X,Y,num_layer,lamb,epsilon=1e-4):\n",
        "  matEp = []\n",
        "  for i in range(len(theta)):\n",
        "    o = np.zeros([theta[i].shape[0],theta[i].shape[1]])\n",
        "    r = np.zeros([theta[i].shape[0],theta[i].shape[1]])\n",
        "    for j in range(len(theta[i])):\n",
        "      for k in range(len(theta[i][j])):\n",
        "        o[j,k] = epsilon\n",
        "        plus = []\n",
        "        minus = []\n",
        "        for p in theta:\n",
        "          plus.append(p.copy())\n",
        "          minus.append(p.copy())\n",
        "        \n",
        "        plus[i] = theta[i] + o\n",
        "        minus[i] = theta[i] - o\n",
        "        [_,J1] = costGrad(plus,X,Y,num_layer,lamb)\n",
        "        [_,J2] = costGrad(minus,X,Y,num_layer,lamb)\n",
        "        o[j,k] = 0\n",
        "        r[j,k] = (J1-J2)/(2*epsilon)\n",
        "    matEp.append(r)\n",
        "  return matEp\n",
        "\n",
        "def gradientCheck(theta,X,Y,num_layer,lamb,epsilon=1e-4):\n",
        "  loss1 = gradientNum(theta,X,Y,num_layer,lamb,epsilon=1e-4)\n",
        "  loss2 = costGrad(theta_ran,x,y,num_layer,lamb)[0]\n",
        "  for i in range(len(theta)):\n",
        "      if sum(sum(loss1[i]-loss2[i]))<epsilon: continue\n",
        "      return \"From gradient chcking your result is fault!!\"\n",
        "  return \"From gradient chcking your result is OK!!\""
      ],
      "execution_count": 0,
      "outputs": []
    },
    {
      "cell_type": "markdown",
      "metadata": {
        "id": "btkZWGWJCx8R",
        "colab_type": "text"
      },
      "source": [
        "ในการ Optimize ในครั้งนี้จะใช้ Gradient Descent Algorithm ในการทำ"
      ]
    },
    {
      "cell_type": "code",
      "metadata": {
        "id": "_-TvtOP2CoAv",
        "colab_type": "code",
        "colab": {}
      },
      "source": [
        "def gradientDescent(theta,X,Y,num_layer,lamb,alpha):\n",
        "  Jlist = []\n",
        "  JL = costGrad(theta,X,Y,num_layer,lamb)[1] +1\n",
        "  while 1:\n",
        "    [grad, J] = costGrad(theta,X,Y,num_layer,lamb)\n",
        "    Jlist.append(J)\n",
        "    if((JL-J)<0.0001): \n",
        "      break\n",
        "    for i in range(num_layer-1):\n",
        "      theta[i] -= alpha*grad[i] \n",
        "    JL = J\n",
        "  return [theta,Jlist]"
      ],
      "execution_count": 0,
      "outputs": []
    },
    {
      "cell_type": "markdown",
      "metadata": {
        "id": "fLhlDqhTKeeZ",
        "colab_type": "text"
      },
      "source": [
        "โดยอีกประเด็นหนึ่งที่เกิดขึ้นในการ train model ของเราก็คือในการกำหนด initial $\\Theta$ <br>\n",
        "ถ้าเรากำหนด initial $\\Theta$ เป็น 0 ทั้งหมด<br>\n",
        "1. อาจจะทำให้ค่าของ $\\Theta$ ติดอยู่ภายใน local minimum ซึ่งจะทำให้ผลลัพท์ไม่ได้ตามค่าที่ต้องการ\n",
        "2. ถ้าใช้ initial $\\Theta$ เป็นค่าเดียวกันในกระบวนการ train รอบแรกๆจะได้ค่า $\\Theta$ ที่ซ้ำกันหลายรอบซึ่งถ้าเรามีจำนวน layer ที่เยอะจะทำให้เราเสียเวลามาก\n",
        "\n",
        "ดังนั้นจึงต้องทำ Random initial $\\Theta$"
      ]
    },
    {
      "cell_type": "code",
      "metadata": {
        "id": "TAZnulx-ncIF",
        "colab_type": "code",
        "colab": {}
      },
      "source": [
        "theta_0 = [np.zeros([3,3]),\n",
        "           np.zeros([3,4]),\n",
        "           np.zeros([1,4])]\n",
        "\n",
        "theta_ran = [(6*np.random.rand(3,3)-3),\n",
        "             (6*np.random.rand(3,4)-3),\n",
        "             (6*np.random.rand(1,4)-3)]\n",
        "\n",
        "x = np.array([[4.0,1.0],\n",
        "              [3.0,4.0],\n",
        "              [-1.0,-4.0],\n",
        "              [-3.0,-2.0],\n",
        "              [-3.0,-1.0]])\n",
        "y = np.array([[1.0],\n",
        "              [1.0],\n",
        "              [0.0],\n",
        "              [0.0],\n",
        "              [0.0]])\n",
        "num_layer = 4\n",
        "lamb = 0\n",
        "alpha = 0.01"
      ],
      "execution_count": 0,
      "outputs": []
    },
    {
      "cell_type": "code",
      "metadata": {
        "id": "3E6mvotnrrg-",
        "colab_type": "code",
        "colab": {
          "base_uri": "https://localhost:8080/",
          "height": 50
        },
        "outputId": "39325066-1f13-42e5-df7f-c7906cf7f5aa"
      },
      "source": [
        "print(gradientCheck(theta_ran,x,y,num_layer,lamb))\n",
        "print(gradientCheck(theta_0,x,y,num_layer,lamb))"
      ],
      "execution_count": 164,
      "outputs": [
        {
          "output_type": "stream",
          "text": [
            "From gradient chcking your result is OK!!\n",
            "From gradient chcking your result is fault!!\n"
          ],
          "name": "stdout"
        }
      ]
    },
    {
      "cell_type": "code",
      "metadata": {
        "id": "kplmJNcRSuHS",
        "colab_type": "code",
        "colab": {}
      },
      "source": [
        "[Theta_0,J_0] = gradientDescent(theta_0,x,y,num_layer,lamb,alpha)\n",
        "[Theta_ran,J_ran] = gradientDescent(theta_ran,x,y,num_layer,lamb,alpha)"
      ],
      "execution_count": 0,
      "outputs": []
    },
    {
      "cell_type": "code",
      "metadata": {
        "id": "XQy33vC-X7Pi",
        "colab_type": "code",
        "colab": {
          "base_uri": "https://localhost:8080/",
          "height": 281
        },
        "outputId": "2b944767-8426-4158-845e-bac6c7fbc1a9"
      },
      "source": [
        "plt.plot(range(len(J_0)),J_0);\n",
        "plt.title('Zero initial Cost Function');"
      ],
      "execution_count": 166,
      "outputs": [
        {
          "output_type": "display_data",
          "data": {
            "image/png": "[encoded data removed]",
            "text/plain": [
              "<Figure size 432x288 with 1 Axes>"
            ]
          },
          "metadata": {
            "tags": []
          }
        }
      ]
    },
    {
      "cell_type": "code",
      "metadata": {
        "id": "_qkSOEZzYAOC",
        "colab_type": "code",
        "colab": {
          "base_uri": "https://localhost:8080/",
          "height": 281
        },
        "outputId": "9a977a27-ca7b-4be5-a20f-34ed8781007b"
      },
      "source": [
        "plt.plot(range(len(J_ran)),J_ran);\n",
        "plt.title('Random initial Cost Function');"
      ],
      "execution_count": 167,
      "outputs": [
        {
          "output_type": "display_data",
          "data": {
            "image/png": "[encoded data removed]",
            "text/plain": [
              "<Figure size 432x288 with 1 Axes>"
            ]
          },
          "metadata": {
            "tags": []
          }
        }
      ]
    },
    {
      "cell_type": "markdown",
      "metadata": {
        "id": "QceYwRykMy8o",
        "colab_type": "text"
      },
      "source": [
        "Cost สุดท้ายที่ได้"
      ]
    },
    {
      "cell_type": "code",
      "metadata": {
        "id": "dOXV6xEIcjh0",
        "colab_type": "code",
        "colab": {
          "base_uri": "https://localhost:8080/",
          "height": 33
        },
        "outputId": "74f99895-e915-433e-be75-0ac48fcef649"
      },
      "source": [
        "print(f\"J_0 = {J_0[-1]}; J_ran = {J_ran[-1]}\")"
      ],
      "execution_count": 168,
      "outputs": [
        {
          "output_type": "stream",
          "text": [
            "J_0 = 0.6844560955489216; J_ran = 0.2396961037768903\n"
          ],
          "name": "stdout"
        }
      ]
    },
    {
      "cell_type": "code",
      "metadata": {
        "id": "_hhnz9_2enDV",
        "colab_type": "code",
        "colab": {}
      },
      "source": [
        "[A1,_] = forwardProp(Theta_0,x,4)\n",
        "[A2,_] = forwardProp(Theta_ran,x,4)"
      ],
      "execution_count": 0,
      "outputs": []
    },
    {
      "cell_type": "markdown",
      "metadata": {
        "id": "WemgLcsJMnF9",
        "colab_type": "text"
      },
      "source": [
        "Zero initial $\\Theta$ Prediction"
      ]
    },
    {
      "cell_type": "code",
      "metadata": {
        "id": "J8P5e5Oset-e",
        "colab_type": "code",
        "colab": {
          "base_uri": "https://localhost:8080/",
          "height": 100
        },
        "outputId": "32d584c9-3c12-4919-e112-476138925855"
      },
      "source": [
        "A1[-1]"
      ],
      "execution_count": 170,
      "outputs": [
        {
          "output_type": "execute_result",
          "data": {
            "text/plain": [
              "array([[0.47521813],\n",
              "       [0.47521813],\n",
              "       [0.47521813],\n",
              "       [0.47521813],\n",
              "       [0.47521813]])"
            ]
          },
          "metadata": {
            "tags": []
          },
          "execution_count": 170
        }
      ]
    },
    {
      "cell_type": "markdown",
      "metadata": {
        "id": "vvH2tCZ0Mv-x",
        "colab_type": "text"
      },
      "source": [
        "Random initial $\\Theta$ Prediction"
      ]
    },
    {
      "cell_type": "code",
      "metadata": {
        "id": "ORpzEJElfqJa",
        "colab_type": "code",
        "colab": {
          "base_uri": "https://localhost:8080/",
          "height": 100
        },
        "outputId": "3a0929e1-a773-4c19-ed20-febc1b861cf9"
      },
      "source": [
        "A2[-1]"
      ],
      "execution_count": 171,
      "outputs": [
        {
          "output_type": "execute_result",
          "data": {
            "text/plain": [
              "array([[0.73163028],\n",
              "       [0.79237924],\n",
              "       [0.19277419],\n",
              "       [0.19319966],\n",
              "       [0.20104807]])"
            ]
          },
          "metadata": {
            "tags": []
          },
          "execution_count": 171
        }
      ]
    }
  ]
}