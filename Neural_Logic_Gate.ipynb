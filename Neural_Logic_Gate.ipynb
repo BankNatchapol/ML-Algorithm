{
  "nbformat": 4,
  "nbformat_minor": 0,
  "metadata": {
    "colab": {
      "name": "Neural Logic Gate",
      "provenance": [],
      "collapsed_sections": [],
      "authorship_tag": "ABX9TyNTGAvGvZ5TJPUn8A/NHlaA",
      "include_colab_link": true
    },
    "kernelspec": {
      "name": "python3",
      "display_name": "Python 3"
    }
  },
  "cells": [
    {
      "cell_type": "markdown",
      "metadata": {
        "id": "view-in-github",
        "colab_type": "text"
      },
      "source": [
        "<a href=\"https://colab.research.google.com/github/BankNatchapol/ML-Algorithm/blob/master/Neural_Logic_Gate.ipynb\" target=\"_parent\"><img src=\"https://colab.research.google.com/assets/colab-badge.svg\" alt=\"Open In Colab\"/></a>"
      ]
    },
    {
      "cell_type": "markdown",
      "metadata": {
        "id": "11TPGtKAittE",
        "colab_type": "text"
      },
      "source": [
        "# **สร้าง Neural Representation Logic Gate**\n",
        "\n",
        "\n",
        "---\n",
        "ใน concept ของ Neural Network จะประกอบไปด้วย node หรือที่เรียกอีกชื่อว่า perceptron\n",
        "![alt text](https://github.com/BankNatchapol/ML-Algorithm/blob/master/NN.jpg?raw=true)\n",
        "โดยเมื่อรวมกลุ่มของ Node ในแต่ละชั้นก็จะเรียกว่า Layer ซึ่งโดยพื้นฐานจะมี Layer อยู่ 3 ชนิดคือ <br><br>\n",
        "Input Layer คือ Layer แรกที่เป็นจุดรับค่าเข้ามาภายใน Neural Network<br>\n",
        "Output Layer คือ Layer สุดท้ายที่เป็นตัวส่ง Output ออกจากระบบ<br>\n",
        "Hidden Layer คือ Layer อื่นๆระหว่าง Input Layer และ Output Layer<br><br>\n",
        "ซึ่งในกระบวนการส่งผ่านจากชั้นหนึ่งไปอีกชั้นหนึ่งจะมี weight คือ parameter ที่จะเป็นตัวที่บอกว่า input แต่ละสายมีความสำคัญขนาดไหน และมี Activation function ที่เป็นตัวปรับ inputxweight ที่เข้ามาให้อยู่ในรูปแบบที่เราต้องการเช่นในการทำ classification เราต้องการให้ผลลัพท์ที่ได้มีค่าระหว่าง 0-1 <br>\n",
        "ดังนั้นเราจึงใช้ Activation functionn เป็น Sigmoid (Logistic) funcion \n",
        "<br><br>\n",
        "ซึ่งถ้าเราสังเกตใน Sigmoid function\n",
        "![alt text](https://github.com/BankNatchapol/ML-Algorithm/blob/master/sigmoid.jpg?raw=true)\n",
        "จะพบว่าในค่า x ที่มีค่าน้อยกว่า -5 หรือ มากกว่า 5 จะมึค่าประมาณ 0 และ 1 ตามลำดับ ทำให้เราสามารถใช้คุณสมบัตินี้ในการทำให้ output เป็น bit 0,1 ได้<br>\n",
        "เรามาลองดูวิธีการทำกันเลยดีกว่าครับ "
      ]
    },
    {
      "cell_type": "code",
      "metadata": {
        "id": "VfBAGseVZYxH",
        "colab_type": "code",
        "colab": {}
      },
      "source": [
        "import numpy as np\n",
        "import pandas as pd"
      ],
      "execution_count": 0,
      "outputs": []
    },
    {
      "cell_type": "markdown",
      "metadata": {
        "id": "H_CdUKVQB9zN",
        "colab_type": "text"
      },
      "source": [
        "โดยขั้นแรกก็สร้าง Input matrix ที่เป็นความเป็นไปได้ทั้งหมด<br><br>\n",
        "$x2 = \\begin{bmatrix}\n",
        "0 \\\\\n",
        "1 \n",
        "\\end{bmatrix}$<br><br>\n",
        "$x4 = \\begin{bmatrix}\n",
        "0 & 0\\\\\n",
        "0 & 1\\\\\n",
        "1 & 0\\\\\n",
        "1 & 1\n",
        "\\end{bmatrix}$"
      ]
    },
    {
      "cell_type": "code",
      "metadata": {
        "id": "WsDIkBJc3k56",
        "colab_type": "code",
        "colab": {}
      },
      "source": [
        "x2 = np.array([[0],\n",
        "              [1]])\n",
        "\n",
        "x4 = np.array([[0,0],\n",
        "              [0,1],\n",
        "              [1,0],\n",
        "              [1,1]])"
      ],
      "execution_count": 0,
      "outputs": []
    },
    {
      "cell_type": "markdown",
      "metadata": {
        "id": "etm9b1HTFOrV",
        "colab_type": "text"
      },
      "source": [
        "สร้าง Activation function ที่เป็น Sigmoid function และ function ที่ใช้สร้าง logic gate"
      ]
    },
    {
      "cell_type": "code",
      "metadata": {
        "id": "jKT4dY73FOMl",
        "colab_type": "code",
        "colab": {}
      },
      "source": [
        "def actFun(z):\n",
        "  return 1/(1+np.exp(-z))\n",
        "\n",
        "def cGate(theta,x):\n",
        "  X = np.ones([x.shape[0],x.shape[1]+1])\n",
        "  X[:,1:] = x\n",
        "  return list(map(int,(actFun(np.dot(theta.T,X.T))>0.5)[0]))"
      ],
      "execution_count": 0,
      "outputs": []
    },
    {
      "cell_type": "markdown",
      "metadata": {
        "id": "nmu-2zULDLzM",
        "colab_type": "text"
      },
      "source": [
        "Weight ในส่วนของ AND logic จะมีค่าเป็น<br><br>\n",
        "$AND_W = \\begin{bmatrix}\n",
        "-30 \\\\\n",
        "20\\\\\n",
        "20\n",
        "\\end{bmatrix}$<br><br>\n",
        "โดยที่ค่าจะไม่จำเป็นต้องเป็นตามด้านบน แต่จะต้องมีสัดส่วนประมาณนี้ ให้ weight ล่างทุกตัวน้อยกว่าค่าลบของ weight แรกแต่ให้เมื่อรวมกันแล้วมากกว่าค่าลบของ weight ตัวแรก\n",
        "![alt text](https://github.com/BankNatchapol/ML-Algorithm/blob/master/AND.jpg?raw=true)\n",
        "ซึ่งจะได้ผลลัพท์เมื่อเราใส่ x4 เป็น Input ตาม Truth Table ด้านล่าง"
      ]
    },
    {
      "cell_type": "code",
      "metadata": {
        "id": "u_47DE_BB8yw",
        "colab_type": "code",
        "colab": {
          "base_uri": "https://localhost:8080/",
          "height": 183
        },
        "outputId": "7b11eaee-4387-44e0-9e61-46dc93370ae5"
      },
      "source": [
        "AND_w = np.array([[-30],\n",
        "                [20],\n",
        "                [20]]) \n",
        "\n",
        "def AND(x):\n",
        "  return cGate(AND_w,x)\n",
        "\n",
        "tAND = pd.DataFrame([x4[:,0],x4[:,1],AND(x4)]).T\n",
        "tAND.columns = ['x1','x2','F(x1,x2)']\n",
        "print('AND GATE')\n",
        "tAND"
      ],
      "execution_count": 23,
      "outputs": [
        {
          "output_type": "stream",
          "text": [
            "AND GATE\n"
          ],
          "name": "stdout"
        },
        {
          "output_type": "execute_result",
          "data": {
            "text/html": [
              "<div>\n",
              "<style scoped>\n",
              "    .dataframe tbody tr th:only-of-type {\n",
              "        vertical-align: middle;\n",
              "    }\n",
              "\n",
              "    .dataframe tbody tr th {\n",
              "        vertical-align: top;\n",
              "    }\n",
              "\n",
              "    .dataframe thead th {\n",
              "        text-align: right;\n",
              "    }\n",
              "</style>\n",
              "<table border=\"1\" class=\"dataframe\">\n",
              "  <thead>\n",
              "    <tr style=\"text-align: right;\">\n",
              "      <th></th>\n",
              "      <th>x1</th>\n",
              "      <th>x2</th>\n",
              "      <th>F(x1,x2)</th>\n",
              "    </tr>\n",
              "  </thead>\n",
              "  <tbody>\n",
              "    <tr>\n",
              "      <th>0</th>\n",
              "      <td>0</td>\n",
              "      <td>0</td>\n",
              "      <td>0</td>\n",
              "    </tr>\n",
              "    <tr>\n",
              "      <th>1</th>\n",
              "      <td>0</td>\n",
              "      <td>1</td>\n",
              "      <td>0</td>\n",
              "    </tr>\n",
              "    <tr>\n",
              "      <th>2</th>\n",
              "      <td>1</td>\n",
              "      <td>0</td>\n",
              "      <td>0</td>\n",
              "    </tr>\n",
              "    <tr>\n",
              "      <th>3</th>\n",
              "      <td>1</td>\n",
              "      <td>1</td>\n",
              "      <td>1</td>\n",
              "    </tr>\n",
              "  </tbody>\n",
              "</table>\n",
              "</div>"
            ],
            "text/plain": [
              "   x1  x2  F(x1,x2)\n",
              "0   0   0         0\n",
              "1   0   1         0\n",
              "2   1   0         0\n",
              "3   1   1         1"
            ]
          },
          "metadata": {
            "tags": []
          },
          "execution_count": 23
        }
      ]
    },
    {
      "cell_type": "markdown",
      "metadata": {
        "id": "9HsuBbV4HHZJ",
        "colab_type": "text"
      },
      "source": [
        "ในส่วน weight ของ OR gate จะมีค่าเป็น<br><br>\n",
        "$OR_W = \\begin{bmatrix}\n",
        "-10 \\\\\n",
        "20\\\\\n",
        "20\n",
        "\\end{bmatrix}$<br><br>\n",
        "![alt text](https://github.com/BankNatchapol/ML-Algorithm/blob/master/OR.jpg?raw=true)\n",
        "ซึ่งจะได้ผลลัพท์เมื่อเราใส่ x4 เป็น Input ตาม Truth Table ด้านล่าง"
      ]
    },
    {
      "cell_type": "code",
      "metadata": {
        "id": "biUHs95nFDc5",
        "colab_type": "code",
        "colab": {
          "base_uri": "https://localhost:8080/",
          "height": 183
        },
        "outputId": "9f26be2b-a30b-42c4-ded8-7824f5378a5f"
      },
      "source": [
        "OR_w = np.array([[-10],\n",
        "                [20],\n",
        "                [20]]) \n",
        "\n",
        "def OR(x):\n",
        "  return cGate(OR_w,x)\n",
        "\n",
        "tOR = pd.DataFrame([x4[:,0],x4[:,1],OR(x4)]).T\n",
        "tOR.columns = ['x1','x2','F(x1,x2)']\n",
        "print('OR GATE')\n",
        "tOR"
      ],
      "execution_count": 24,
      "outputs": [
        {
          "output_type": "stream",
          "text": [
            "OR GATE\n"
          ],
          "name": "stdout"
        },
        {
          "output_type": "execute_result",
          "data": {
            "text/html": [
              "<div>\n",
              "<style scoped>\n",
              "    .dataframe tbody tr th:only-of-type {\n",
              "        vertical-align: middle;\n",
              "    }\n",
              "\n",
              "    .dataframe tbody tr th {\n",
              "        vertical-align: top;\n",
              "    }\n",
              "\n",
              "    .dataframe thead th {\n",
              "        text-align: right;\n",
              "    }\n",
              "</style>\n",
              "<table border=\"1\" class=\"dataframe\">\n",
              "  <thead>\n",
              "    <tr style=\"text-align: right;\">\n",
              "      <th></th>\n",
              "      <th>x1</th>\n",
              "      <th>x2</th>\n",
              "      <th>F(x1,x2)</th>\n",
              "    </tr>\n",
              "  </thead>\n",
              "  <tbody>\n",
              "    <tr>\n",
              "      <th>0</th>\n",
              "      <td>0</td>\n",
              "      <td>0</td>\n",
              "      <td>0</td>\n",
              "    </tr>\n",
              "    <tr>\n",
              "      <th>1</th>\n",
              "      <td>0</td>\n",
              "      <td>1</td>\n",
              "      <td>1</td>\n",
              "    </tr>\n",
              "    <tr>\n",
              "      <th>2</th>\n",
              "      <td>1</td>\n",
              "      <td>0</td>\n",
              "      <td>1</td>\n",
              "    </tr>\n",
              "    <tr>\n",
              "      <th>3</th>\n",
              "      <td>1</td>\n",
              "      <td>1</td>\n",
              "      <td>1</td>\n",
              "    </tr>\n",
              "  </tbody>\n",
              "</table>\n",
              "</div>"
            ],
            "text/plain": [
              "   x1  x2  F(x1,x2)\n",
              "0   0   0         0\n",
              "1   0   1         1\n",
              "2   1   0         1\n",
              "3   1   1         1"
            ]
          },
          "metadata": {
            "tags": []
          },
          "execution_count": 24
        }
      ]
    },
    {
      "cell_type": "markdown",
      "metadata": {
        "id": "agqhU_oSI8ZO",
        "colab_type": "text"
      },
      "source": [
        "ในส่วนของ NOT gate จะมี weight เป็น<br><br>\n",
        "$NOT_W = \\begin{bmatrix}\n",
        "10 \\\\\n",
        "-20\n",
        "\\end{bmatrix}$<br><br>\n",
        "![alt text](https://github.com/BankNatchapol/ML-Algorithm/blob/master/NOT.jpg?raw=true)\n",
        "ซึ่งจะได้ผลลัพท์เมื่อเราใส่ x2 เป็น Input ตาม Truth Table ด้านล่าง"
      ]
    },
    {
      "cell_type": "code",
      "metadata": {
        "id": "UOKMHhK6Fsex",
        "colab_type": "code",
        "colab": {
          "base_uri": "https://localhost:8080/",
          "height": 124
        },
        "outputId": "b974469f-51ad-407d-9029-ac7d34d35491"
      },
      "source": [
        "NOT_w = np.array([[10],\n",
        "                [-20]]) \n",
        "\n",
        "def NOT(x):\n",
        "  return cGate(NOT_w,x)\n",
        "\n",
        "tNOT = pd.DataFrame({'x':x2.T[0],'F(x)':NOT(x2)})\n",
        "print('NOT GATE')\n",
        "tNOT"
      ],
      "execution_count": 25,
      "outputs": [
        {
          "output_type": "stream",
          "text": [
            "NOT GATE\n"
          ],
          "name": "stdout"
        },
        {
          "output_type": "execute_result",
          "data": {
            "text/html": [
              "<div>\n",
              "<style scoped>\n",
              "    .dataframe tbody tr th:only-of-type {\n",
              "        vertical-align: middle;\n",
              "    }\n",
              "\n",
              "    .dataframe tbody tr th {\n",
              "        vertical-align: top;\n",
              "    }\n",
              "\n",
              "    .dataframe thead th {\n",
              "        text-align: right;\n",
              "    }\n",
              "</style>\n",
              "<table border=\"1\" class=\"dataframe\">\n",
              "  <thead>\n",
              "    <tr style=\"text-align: right;\">\n",
              "      <th></th>\n",
              "      <th>x</th>\n",
              "      <th>F(x)</th>\n",
              "    </tr>\n",
              "  </thead>\n",
              "  <tbody>\n",
              "    <tr>\n",
              "      <th>0</th>\n",
              "      <td>0</td>\n",
              "      <td>1</td>\n",
              "    </tr>\n",
              "    <tr>\n",
              "      <th>1</th>\n",
              "      <td>1</td>\n",
              "      <td>0</td>\n",
              "    </tr>\n",
              "  </tbody>\n",
              "</table>\n",
              "</div>"
            ],
            "text/plain": [
              "   x  F(x)\n",
              "0  0     1\n",
              "1  1     0"
            ]
          },
          "metadata": {
            "tags": []
          },
          "execution_count": 25
        }
      ]
    },
    {
      "cell_type": "markdown",
      "metadata": {
        "id": "DiiV_rNBKXfe",
        "colab_type": "text"
      },
      "source": [
        "ในส่วนของ NAND gate จะมี weight เป็น<br><br>\n",
        "$NOT_W = \\begin{bmatrix}\n",
        "30 \\\\\n",
        "-20 \\\\\n",
        "-20\n",
        "\\end{bmatrix}$<br><br>\n",
        "![alt text](https://github.com/BankNatchapol/ML-Algorithm/blob/master/NAND.jpg?raw=true)\n",
        "ซึ่งจะได้ผลลัพท์เมื่อเราใส่ x4 เป็น Input ตาม Truth Table ด้านล่าง"
      ]
    },
    {
      "cell_type": "code",
      "metadata": {
        "id": "VIOqTxpRI0jy",
        "colab_type": "code",
        "colab": {
          "base_uri": "https://localhost:8080/",
          "height": 183
        },
        "outputId": "6c243f5b-af72-4c4a-c82b-e9fd9ba48541"
      },
      "source": [
        "NAND_w = np.array([[30],\n",
        "                [-20],\n",
        "                [-20]]) \n",
        "\n",
        "def NAND(x):\n",
        "  return cGate(NAND_w,x)\n",
        "\n",
        "tNAND = pd.DataFrame([x4[:,0],x4[:,1],NAND(x4)]).T\n",
        "tNAND.columns = ['x1','x2','F(x1,x2)']\n",
        "print('NAND GATE')\n",
        "tNAND"
      ],
      "execution_count": 26,
      "outputs": [
        {
          "output_type": "stream",
          "text": [
            "NAND GATE\n"
          ],
          "name": "stdout"
        },
        {
          "output_type": "execute_result",
          "data": {
            "text/html": [
              "<div>\n",
              "<style scoped>\n",
              "    .dataframe tbody tr th:only-of-type {\n",
              "        vertical-align: middle;\n",
              "    }\n",
              "\n",
              "    .dataframe tbody tr th {\n",
              "        vertical-align: top;\n",
              "    }\n",
              "\n",
              "    .dataframe thead th {\n",
              "        text-align: right;\n",
              "    }\n",
              "</style>\n",
              "<table border=\"1\" class=\"dataframe\">\n",
              "  <thead>\n",
              "    <tr style=\"text-align: right;\">\n",
              "      <th></th>\n",
              "      <th>x1</th>\n",
              "      <th>x2</th>\n",
              "      <th>F(x1,x2)</th>\n",
              "    </tr>\n",
              "  </thead>\n",
              "  <tbody>\n",
              "    <tr>\n",
              "      <th>0</th>\n",
              "      <td>0</td>\n",
              "      <td>0</td>\n",
              "      <td>1</td>\n",
              "    </tr>\n",
              "    <tr>\n",
              "      <th>1</th>\n",
              "      <td>0</td>\n",
              "      <td>1</td>\n",
              "      <td>1</td>\n",
              "    </tr>\n",
              "    <tr>\n",
              "      <th>2</th>\n",
              "      <td>1</td>\n",
              "      <td>0</td>\n",
              "      <td>1</td>\n",
              "    </tr>\n",
              "    <tr>\n",
              "      <th>3</th>\n",
              "      <td>1</td>\n",
              "      <td>1</td>\n",
              "      <td>0</td>\n",
              "    </tr>\n",
              "  </tbody>\n",
              "</table>\n",
              "</div>"
            ],
            "text/plain": [
              "   x1  x2  F(x1,x2)\n",
              "0   0   0         1\n",
              "1   0   1         1\n",
              "2   1   0         1\n",
              "3   1   1         0"
            ]
          },
          "metadata": {
            "tags": []
          },
          "execution_count": 26
        }
      ]
    },
    {
      "cell_type": "markdown",
      "metadata": {
        "id": "O26A_MXUK0wS",
        "colab_type": "text"
      },
      "source": [
        "ในส่วนของ NOR gate จะมี weight เป็น<br><br>\n",
        "$NOT_W = \\begin{bmatrix}\n",
        "10 \\\\\n",
        "-20 \\\\\n",
        "-20\n",
        "\\end{bmatrix}$<br><br>\n",
        "![alt text](https://github.com/BankNatchapol/ML-Algorithm/blob/master/NOR.jpg?raw=true)\n",
        "ซึ่งจะได้ผลลัพท์เมื่อเราใส่ x4 เป็น Input ตาม Truth Table ด้านล่าง"
      ]
    },
    {
      "cell_type": "code",
      "metadata": {
        "id": "hDeu5LaHJVXc",
        "colab_type": "code",
        "colab": {
          "base_uri": "https://localhost:8080/",
          "height": 183
        },
        "outputId": "3488d7fe-de63-459c-b5a6-32351d1f07d8"
      },
      "source": [
        "NOR_w = np.array([[10],\n",
        "                [-20],\n",
        "                [-20]])\n",
        "\n",
        "def NOR(x):\n",
        "  return cGate(NOR_w,x)\n",
        "\n",
        "tNOR = pd.DataFrame([x4[:,0],x4[:,1],NOR(x4)]).T\n",
        "tNOR.columns = ['x1','x2','F(x1,x2)']\n",
        "print('NOR GATE')\n",
        "tNOR"
      ],
      "execution_count": 27,
      "outputs": [
        {
          "output_type": "stream",
          "text": [
            "NOR GATE\n"
          ],
          "name": "stdout"
        },
        {
          "output_type": "execute_result",
          "data": {
            "text/html": [
              "<div>\n",
              "<style scoped>\n",
              "    .dataframe tbody tr th:only-of-type {\n",
              "        vertical-align: middle;\n",
              "    }\n",
              "\n",
              "    .dataframe tbody tr th {\n",
              "        vertical-align: top;\n",
              "    }\n",
              "\n",
              "    .dataframe thead th {\n",
              "        text-align: right;\n",
              "    }\n",
              "</style>\n",
              "<table border=\"1\" class=\"dataframe\">\n",
              "  <thead>\n",
              "    <tr style=\"text-align: right;\">\n",
              "      <th></th>\n",
              "      <th>x1</th>\n",
              "      <th>x2</th>\n",
              "      <th>F(x1,x2)</th>\n",
              "    </tr>\n",
              "  </thead>\n",
              "  <tbody>\n",
              "    <tr>\n",
              "      <th>0</th>\n",
              "      <td>0</td>\n",
              "      <td>0</td>\n",
              "      <td>1</td>\n",
              "    </tr>\n",
              "    <tr>\n",
              "      <th>1</th>\n",
              "      <td>0</td>\n",
              "      <td>1</td>\n",
              "      <td>0</td>\n",
              "    </tr>\n",
              "    <tr>\n",
              "      <th>2</th>\n",
              "      <td>1</td>\n",
              "      <td>0</td>\n",
              "      <td>0</td>\n",
              "    </tr>\n",
              "    <tr>\n",
              "      <th>3</th>\n",
              "      <td>1</td>\n",
              "      <td>1</td>\n",
              "      <td>0</td>\n",
              "    </tr>\n",
              "  </tbody>\n",
              "</table>\n",
              "</div>"
            ],
            "text/plain": [
              "   x1  x2  F(x1,x2)\n",
              "0   0   0         1\n",
              "1   0   1         0\n",
              "2   1   0         0\n",
              "3   1   1         0"
            ]
          },
          "metadata": {
            "tags": []
          },
          "execution_count": 27
        }
      ]
    },
    {
      "cell_type": "markdown",
      "metadata": {
        "id": "gyDQ6m7RMPqZ",
        "colab_type": "text"
      },
      "source": [
        "ในส่วนของ XNOR gate นั้นจะมี boolean function เป็น<br><br>\n",
        "$F(A,B) = \\overline{A}\\overline{B}+AB$<br><br>\n",
        "ซึ่งเราสามารถนำมาทำเป็น Neural ได้ดังนี้<br>\n",
        "![alt text](https://github.com/BankNatchapol/ML-Algorithm/blob/master/XNOR.jpg?raw=true)\n",
        "โดยการใช้ AND gate, NOR gate และ OR gate ทำให้เราได้ XNOR gate ออกมา<br>\n",
        "ซึ่งจะได้ผลลัพท์เมื่อเราใส่ x4 เป็น Input ตาม Truth Table ด้านล่าง"
      ]
    },
    {
      "cell_type": "code",
      "metadata": {
        "id": "5MPRwwGMF8pY",
        "colab_type": "code",
        "colab": {
          "base_uri": "https://localhost:8080/",
          "height": 183
        },
        "outputId": "b76ff0c3-85da-4e30-ce11-a508aa517b96"
      },
      "source": [
        "def XNOR(x):\n",
        "  a1 = AND(x)\n",
        "  a2 = NOR(x)\n",
        "  a = np.array([a1,a2]).T\n",
        "  return OR(a)\n",
        "\n",
        "tXNOR = pd.DataFrame([x4[:,0],x4[:,1],XNOR(x4)]).T\n",
        "tXNOR.columns = ['x1','x2','F(x1,x2)']\n",
        "print('XNOR GATE')\n",
        "tXNOR"
      ],
      "execution_count": 28,
      "outputs": [
        {
          "output_type": "stream",
          "text": [
            "XNOR GATE\n"
          ],
          "name": "stdout"
        },
        {
          "output_type": "execute_result",
          "data": {
            "text/html": [
              "<div>\n",
              "<style scoped>\n",
              "    .dataframe tbody tr th:only-of-type {\n",
              "        vertical-align: middle;\n",
              "    }\n",
              "\n",
              "    .dataframe tbody tr th {\n",
              "        vertical-align: top;\n",
              "    }\n",
              "\n",
              "    .dataframe thead th {\n",
              "        text-align: right;\n",
              "    }\n",
              "</style>\n",
              "<table border=\"1\" class=\"dataframe\">\n",
              "  <thead>\n",
              "    <tr style=\"text-align: right;\">\n",
              "      <th></th>\n",
              "      <th>x1</th>\n",
              "      <th>x2</th>\n",
              "      <th>F(x1,x2)</th>\n",
              "    </tr>\n",
              "  </thead>\n",
              "  <tbody>\n",
              "    <tr>\n",
              "      <th>0</th>\n",
              "      <td>0</td>\n",
              "      <td>0</td>\n",
              "      <td>1</td>\n",
              "    </tr>\n",
              "    <tr>\n",
              "      <th>1</th>\n",
              "      <td>0</td>\n",
              "      <td>1</td>\n",
              "      <td>0</td>\n",
              "    </tr>\n",
              "    <tr>\n",
              "      <th>2</th>\n",
              "      <td>1</td>\n",
              "      <td>0</td>\n",
              "      <td>0</td>\n",
              "    </tr>\n",
              "    <tr>\n",
              "      <th>3</th>\n",
              "      <td>1</td>\n",
              "      <td>1</td>\n",
              "      <td>1</td>\n",
              "    </tr>\n",
              "  </tbody>\n",
              "</table>\n",
              "</div>"
            ],
            "text/plain": [
              "   x1  x2  F(x1,x2)\n",
              "0   0   0         1\n",
              "1   0   1         0\n",
              "2   1   0         0\n",
              "3   1   1         1"
            ]
          },
          "metadata": {
            "tags": []
          },
          "execution_count": 28
        }
      ]
    },
    {
      "cell_type": "markdown",
      "metadata": {
        "id": "kBHtA8MvN7pm",
        "colab_type": "text"
      },
      "source": [
        "ในส่วนของ XOR gate นั้นจะมี boolean function เป็น<br><br>\n",
        "$F(A,B) = \\overline{A}{B}+A\\overline{B}$<br><br>\n",
        "ซึ่งเราสามารถนำมาทำเป็น Neural ได้ดังนี้<br>\n",
        "![alt text](https://github.com/BankNatchapol/ML-Algorithm/blob/master/XOR.jpg?raw=true)\n",
        "โดยการใช้ AND gate, NOR gate ทำให้เราได้ XOR gate ออกมา  หรือใช้ NOT gate กับ XNOR ก็จะได้ XOR gate เหมือนกัน<br>\n",
        "ซึ่งจะได้ผลลัพท์เมื่อเราใส่ x4 เป็น Input ตาม Truth Table ด้านล่าง"
      ]
    },
    {
      "cell_type": "code",
      "metadata": {
        "id": "nPF5cwzMKcDo",
        "colab_type": "code",
        "colab": {
          "base_uri": "https://localhost:8080/",
          "height": 183
        },
        "outputId": "69621aa1-ddb8-4e81-8536-fa1656f0f817"
      },
      "source": [
        "def XOR(x):\n",
        "  xnor = np.array([XNOR(x4)]).T\n",
        "  return NOT(xnor)\n",
        "\n",
        "tXOR = pd.DataFrame([x4[:,0],x4[:,1],XOR(x4)]).T\n",
        "tXOR.columns = ['x1','x2','F(x1,x2)']\n",
        "print('XOR GATE')\n",
        "tXOR"
      ],
      "execution_count": 29,
      "outputs": [
        {
          "output_type": "stream",
          "text": [
            "XOR GATE\n"
          ],
          "name": "stdout"
        },
        {
          "output_type": "execute_result",
          "data": {
            "text/html": [
              "<div>\n",
              "<style scoped>\n",
              "    .dataframe tbody tr th:only-of-type {\n",
              "        vertical-align: middle;\n",
              "    }\n",
              "\n",
              "    .dataframe tbody tr th {\n",
              "        vertical-align: top;\n",
              "    }\n",
              "\n",
              "    .dataframe thead th {\n",
              "        text-align: right;\n",
              "    }\n",
              "</style>\n",
              "<table border=\"1\" class=\"dataframe\">\n",
              "  <thead>\n",
              "    <tr style=\"text-align: right;\">\n",
              "      <th></th>\n",
              "      <th>x1</th>\n",
              "      <th>x2</th>\n",
              "      <th>F(x1,x2)</th>\n",
              "    </tr>\n",
              "  </thead>\n",
              "  <tbody>\n",
              "    <tr>\n",
              "      <th>0</th>\n",
              "      <td>0</td>\n",
              "      <td>0</td>\n",
              "      <td>0</td>\n",
              "    </tr>\n",
              "    <tr>\n",
              "      <th>1</th>\n",
              "      <td>0</td>\n",
              "      <td>1</td>\n",
              "      <td>1</td>\n",
              "    </tr>\n",
              "    <tr>\n",
              "      <th>2</th>\n",
              "      <td>1</td>\n",
              "      <td>0</td>\n",
              "      <td>1</td>\n",
              "    </tr>\n",
              "    <tr>\n",
              "      <th>3</th>\n",
              "      <td>1</td>\n",
              "      <td>1</td>\n",
              "      <td>0</td>\n",
              "    </tr>\n",
              "  </tbody>\n",
              "</table>\n",
              "</div>"
            ],
            "text/plain": [
              "   x1  x2  F(x1,x2)\n",
              "0   0   0         0\n",
              "1   0   1         1\n",
              "2   1   0         1\n",
              "3   1   1         0"
            ]
          },
          "metadata": {
            "tags": []
          },
          "execution_count": 29
        }
      ]
    }
  ]
}