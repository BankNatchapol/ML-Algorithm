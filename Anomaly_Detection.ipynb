{
  "nbformat": 4,
  "nbformat_minor": 0,
  "metadata": {
    "colab": {
      "name": "Anomaly Detection.ipynb",
      "provenance": [],
      "collapsed_sections": [],
      "authorship_tag": "ABX9TyMpJBilB7KDq3yC87teFLl0",
      "include_colab_link": true
    },
    "kernelspec": {
      "name": "python3",
      "display_name": "Python 3"
    }
  },
  "cells": [
    {
      "cell_type": "markdown",
      "metadata": {
        "id": "view-in-github",
        "colab_type": "text"
      },
      "source": [
        "<a href=\"https://colab.research.google.com/github/BankNatchapol/ML-Algorithm/blob/master/Anomaly_Detection.ipynb\" target=\"_parent\"><img src=\"https://colab.research.google.com/assets/colab-badge.svg\" alt=\"Open In Colab\"/></a>"
      ]
    },
    {
      "cell_type": "markdown",
      "metadata": {
        "id": "-3BHIEZwstu3",
        "colab_type": "text"
      },
      "source": [
        "# **Anomaly Detection**\n",
        "\n",
        "\n",
        "---\n",
        "Anomaly Detection คือการตรวจจับสิ่งที่ผิดปกติ ซึ่ง Idea คือ ถ้ามีข้อมูลตัวไหนที่ มีค่าที่โดดออกจากเพื่อน แปลว่าตัวนั้นมีความผิดปกติ\n",
        "![alt text](https://github.com/BankNatchapol/ML-Algorithm/raw/master/Anomaly.jpg)\n",
        "ซี่ง Threshold ที่บอกว่าค่าไหนจะเป็น Anomalous นั้นจะเขียนเป็นสมการได้ดังนี้<br><br>\n",
        "$Anomalous\\;\\;\\;if\\;\\;\\; P(X_{test})<\\epsilon\\;;$\n",
        "<br><br>\n",
        "\n"
      ]
    },
    {
      "cell_type": "markdown",
      "metadata": {
        "id": "VlTB92-CxWAs",
        "colab_type": "text"
      },
      "source": [
        "ขั้นแรก Import Library ที่ใช้ในการคำนวน"
      ]
    },
    {
      "cell_type": "code",
      "metadata": {
        "id": "xQDaLUr8irsu",
        "colab_type": "code",
        "colab": {}
      },
      "source": [
        "import pandas as pd\n",
        "import numpy as np"
      ],
      "execution_count": 0,
      "outputs": []
    },
    {
      "cell_type": "markdown",
      "metadata": {
        "id": "5Qkq6T3FxcY_",
        "colab_type": "text"
      },
      "source": [
        "Import Library ในการ Visualize"
      ]
    },
    {
      "cell_type": "code",
      "metadata": {
        "id": "Lqmtrx5YrB0F",
        "colab_type": "code",
        "colab": {}
      },
      "source": [
        "import matplotlib.pyplot as plt\n",
        "import seaborn as sns"
      ],
      "execution_count": 0,
      "outputs": []
    },
    {
      "cell_type": "markdown",
      "metadata": {
        "id": "48aTeSbmxjmL",
        "colab_type": "text"
      },
      "source": [
        "Import Library ในการคำนวน Score และ Preprocessing"
      ]
    },
    {
      "cell_type": "code",
      "metadata": {
        "id": "910m1EJMrAzn",
        "colab_type": "code",
        "colab": {}
      },
      "source": [
        "from sklearn.metrics import f1_score\n",
        "from sklearn.model_selection import train_test_split"
      ],
      "execution_count": 0,
      "outputs": []
    },
    {
      "cell_type": "markdown",
      "metadata": {
        "id": "_XRI80GpyhHG",
        "colab_type": "text"
      },
      "source": [
        "โดย Dataset ที่ใช้สามารถ Load ได้ตามลิ้งนี้<br>\n",
        "Training Set https://github.com/BankNatchapol/ML-Algorithm/raw/master/Xdata.xls<br>\n",
        "X Validation set https://github.com/BankNatchapol/ML-Algorithm/raw/master/Xvaldata.xls <br>\n",
        "y Validation set https://github.com/BankNatchapol/ML-Algorithm/raw/master/yvaldata.xls"
      ]
    },
    {
      "cell_type": "code",
      "metadata": {
        "id": "sosj1BvpjbuT",
        "colab_type": "code",
        "outputId": "ce84e2ea-eee9-49e7-c3dd-4226a41c2f94",
        "colab": {
          "base_uri": "https://localhost:8080/",
          "height": 195
        }
      },
      "source": [
        "X = pd.read_excel(\"https://github.com/BankNatchapol/ML-Algorithm/raw/master/Xdata.xls\",header=None)\n",
        "X.head()"
      ],
      "execution_count": 0,
      "outputs": [
        {
          "output_type": "execute_result",
          "data": {
            "text/html": [
              "<div>\n",
              "<style scoped>\n",
              "    .dataframe tbody tr th:only-of-type {\n",
              "        vertical-align: middle;\n",
              "    }\n",
              "\n",
              "    .dataframe tbody tr th {\n",
              "        vertical-align: top;\n",
              "    }\n",
              "\n",
              "    .dataframe thead th {\n",
              "        text-align: right;\n",
              "    }\n",
              "</style>\n",
              "<table border=\"1\" class=\"dataframe\">\n",
              "  <thead>\n",
              "    <tr style=\"text-align: right;\">\n",
              "      <th></th>\n",
              "      <th>0</th>\n",
              "      <th>1</th>\n",
              "    </tr>\n",
              "  </thead>\n",
              "  <tbody>\n",
              "    <tr>\n",
              "      <th>0</th>\n",
              "      <td>13.046815</td>\n",
              "      <td>14.741152</td>\n",
              "    </tr>\n",
              "    <tr>\n",
              "      <th>1</th>\n",
              "      <td>13.408520</td>\n",
              "      <td>13.763270</td>\n",
              "    </tr>\n",
              "    <tr>\n",
              "      <th>2</th>\n",
              "      <td>14.195915</td>\n",
              "      <td>15.853181</td>\n",
              "    </tr>\n",
              "    <tr>\n",
              "      <th>3</th>\n",
              "      <td>14.914701</td>\n",
              "      <td>16.174260</td>\n",
              "    </tr>\n",
              "    <tr>\n",
              "      <th>4</th>\n",
              "      <td>13.576700</td>\n",
              "      <td>14.042849</td>\n",
              "    </tr>\n",
              "  </tbody>\n",
              "</table>\n",
              "</div>"
            ],
            "text/plain": [
              "           0          1\n",
              "0  13.046815  14.741152\n",
              "1  13.408520  13.763270\n",
              "2  14.195915  15.853181\n",
              "3  14.914701  16.174260\n",
              "4  13.576700  14.042849"
            ]
          },
          "metadata": {
            "tags": []
          },
          "execution_count": 2
        }
      ]
    },
    {
      "cell_type": "code",
      "metadata": {
        "id": "b7rLjaoajzNl",
        "colab_type": "code",
        "outputId": "8cb3429a-68f7-43aa-b235-149301941c92",
        "colab": {
          "base_uri": "https://localhost:8080/",
          "height": 195
        }
      },
      "source": [
        "Xval = pd.read_excel(\"https://github.com/BankNatchapol/ML-Algorithm/raw/master/Xvaldata.xls\",header=None)\n",
        "Xval.head()"
      ],
      "execution_count": 0,
      "outputs": [
        {
          "output_type": "execute_result",
          "data": {
            "text/html": [
              "<div>\n",
              "<style scoped>\n",
              "    .dataframe tbody tr th:only-of-type {\n",
              "        vertical-align: middle;\n",
              "    }\n",
              "\n",
              "    .dataframe tbody tr th {\n",
              "        vertical-align: top;\n",
              "    }\n",
              "\n",
              "    .dataframe thead th {\n",
              "        text-align: right;\n",
              "    }\n",
              "</style>\n",
              "<table border=\"1\" class=\"dataframe\">\n",
              "  <thead>\n",
              "    <tr style=\"text-align: right;\">\n",
              "      <th></th>\n",
              "      <th>0</th>\n",
              "      <th>1</th>\n",
              "    </tr>\n",
              "  </thead>\n",
              "  <tbody>\n",
              "    <tr>\n",
              "      <th>0</th>\n",
              "      <td>15.790260</td>\n",
              "      <td>14.921024</td>\n",
              "    </tr>\n",
              "    <tr>\n",
              "      <th>1</th>\n",
              "      <td>13.639619</td>\n",
              "      <td>15.329955</td>\n",
              "    </tr>\n",
              "    <tr>\n",
              "      <th>2</th>\n",
              "      <td>14.865899</td>\n",
              "      <td>16.473865</td>\n",
              "    </tr>\n",
              "    <tr>\n",
              "      <th>3</th>\n",
              "      <td>13.584676</td>\n",
              "      <td>13.989306</td>\n",
              "    </tr>\n",
              "    <tr>\n",
              "      <th>4</th>\n",
              "      <td>13.464042</td>\n",
              "      <td>15.635330</td>\n",
              "    </tr>\n",
              "  </tbody>\n",
              "</table>\n",
              "</div>"
            ],
            "text/plain": [
              "           0          1\n",
              "0  15.790260  14.921024\n",
              "1  13.639619  15.329955\n",
              "2  14.865899  16.473865\n",
              "3  13.584676  13.989306\n",
              "4  13.464042  15.635330"
            ]
          },
          "metadata": {
            "tags": []
          },
          "execution_count": 3
        }
      ]
    },
    {
      "cell_type": "code",
      "metadata": {
        "id": "gJwNvAc8j0Fw",
        "colab_type": "code",
        "outputId": "282f8784-2409-4534-c8d5-6c104eddff82",
        "colab": {
          "base_uri": "https://localhost:8080/",
          "height": 195
        }
      },
      "source": [
        "yval = pd.read_excel(\"https://github.com/BankNatchapol/ML-Algorithm/raw/master/yvaldata.xls\",header=None)\n",
        "yval.head()"
      ],
      "execution_count": 0,
      "outputs": [
        {
          "output_type": "execute_result",
          "data": {
            "text/html": [
              "<div>\n",
              "<style scoped>\n",
              "    .dataframe tbody tr th:only-of-type {\n",
              "        vertical-align: middle;\n",
              "    }\n",
              "\n",
              "    .dataframe tbody tr th {\n",
              "        vertical-align: top;\n",
              "    }\n",
              "\n",
              "    .dataframe thead th {\n",
              "        text-align: right;\n",
              "    }\n",
              "</style>\n",
              "<table border=\"1\" class=\"dataframe\">\n",
              "  <thead>\n",
              "    <tr style=\"text-align: right;\">\n",
              "      <th></th>\n",
              "      <th>0</th>\n",
              "    </tr>\n",
              "  </thead>\n",
              "  <tbody>\n",
              "    <tr>\n",
              "      <th>0</th>\n",
              "      <td>0</td>\n",
              "    </tr>\n",
              "    <tr>\n",
              "      <th>1</th>\n",
              "      <td>0</td>\n",
              "    </tr>\n",
              "    <tr>\n",
              "      <th>2</th>\n",
              "      <td>0</td>\n",
              "    </tr>\n",
              "    <tr>\n",
              "      <th>3</th>\n",
              "      <td>0</td>\n",
              "    </tr>\n",
              "    <tr>\n",
              "      <th>4</th>\n",
              "      <td>0</td>\n",
              "    </tr>\n",
              "  </tbody>\n",
              "</table>\n",
              "</div>"
            ],
            "text/plain": [
              "   0\n",
              "0  0\n",
              "1  0\n",
              "2  0\n",
              "3  0\n",
              "4  0"
            ]
          },
          "metadata": {
            "tags": []
          },
          "execution_count": 4
        }
      ]
    },
    {
      "cell_type": "markdown",
      "metadata": {
        "id": "nf5vNPfr0QYD",
        "colab_type": "text"
      },
      "source": [
        "ทำ Train Test Split เพื่อแบ่ง Validation set "
      ]
    },
    {
      "cell_type": "code",
      "metadata": {
        "id": "1sFdUbLdhTXD",
        "colab_type": "code",
        "colab": {}
      },
      "source": [
        "Xval, Xval_test, yval, yval_test = train_test_split(Xval,yval,test_size=0.5, random_state=42)"
      ],
      "execution_count": 0,
      "outputs": []
    },
    {
      "cell_type": "code",
      "metadata": {
        "id": "5uzP3XotkHlJ",
        "colab_type": "code",
        "outputId": "70c1cfb1-5c70-4f5b-d512-0f52b0eee74f",
        "colab": {
          "base_uri": "https://localhost:8080/",
          "height": 295
        }
      },
      "source": [
        "ax = sns.scatterplot(X[0],X[1])\n",
        "ax.set_title(\"Training Set plot\");"
      ],
      "execution_count": 28,
      "outputs": [
        {
          "output_type": "display_data",
          "data": {
            "image/png": "[encoded data removed]",
            "text/plain": [
              "<Figure size 432x288 with 1 Axes>"
            ]
          },
          "metadata": {
            "tags": [],
            "needs_background": "light"
          }
        }
      ]
    },
    {
      "cell_type": "code",
      "metadata": {
        "id": "2sJV3Mrlkuyy",
        "colab_type": "code",
        "outputId": "022f9b90-cb33-4273-957b-9bca3dc049e0",
        "colab": {
          "base_uri": "https://localhost:8080/",
          "height": 295
        }
      },
      "source": [
        "ax = sns.scatterplot(Xval[0],Xval[1],hue=yval[0])\n",
        "ax.set_title(\"Validation set plot\");"
      ],
      "execution_count": 29,
      "outputs": [
        {
          "output_type": "display_data",
          "data": {
            "image/png": "[encoded data removed]",
            "text/plain": [
              "<Figure size 432x288 with 1 Axes>"
            ]
          },
          "metadata": {
            "tags": [],
            "needs_background": "light"
          }
        }
      ]
    },
    {
      "cell_type": "code",
      "metadata": {
        "id": "x8r75uCDry1u",
        "colab_type": "code",
        "colab": {
          "base_uri": "https://localhost:8080/",
          "height": 295
        },
        "outputId": "9b19529a-b8c4-4d09-a21d-a44e1d3035d6"
      },
      "source": [
        "ax = sns.scatterplot(Xval_test[0],Xval_test[1],hue=yval_test[0]);\n",
        "ax.set_title(\"Test Set plot\");"
      ],
      "execution_count": 30,
      "outputs": [
        {
          "output_type": "display_data",
          "data": {
            "image/png": "[encoded data removed]",
            "text/plain": [
              "<Figure size 432x288 with 1 Axes>"
            ]
          },
          "metadata": {
            "tags": [],
            "needs_background": "light"
          }
        }
      ]
    },
    {
      "cell_type": "markdown",
      "metadata": {
        "id": "14D_rYw02W5q",
        "colab_type": "text"
      },
      "source": [
        "ใช้ Gaussian Distribution ในการ Predict Anomaly <br><br>\n",
        "![alt text](https://github.com/BankNatchapol/ML-Algorithm/raw/master/GD.jpg)\n",
        "ซึ่งสามารถเขียนเป็นสมการได้ว่า<br><br>\n",
        "\\begin{equation}\n",
        "P(X;\\mu,\\sigma^2) = \\frac{1}{\\sqrt{2\\pi}\\sigma}e^{-\\frac{(X-\\mu)^2}{2\\sigma^2}}\n",
        "\\end{equation}<br>\n",
        "โดย\n",
        "\\begin{equation}\n",
        "\\mu = \\frac{1}{m}\\Sigma^m_{i=1}X^{(i)}\n",
        "\\end{equation}<br>\n",
        "\\begin{equation}\n",
        "\\sigma^2 = \\frac{1}{m}\\Sigma^m_{i=1}(X^{(i)}-\\mu)^2\n",
        "\\end{equation}<br><br>\n",
        "ซึ่งเนื่องจากเป็น Anomaly Detection แบบ Multivariable โดยจากการสังเกตทำให้สามารถประมาณได้ว่า <br><br>\n",
        "\\begin{equation}\n",
        "P(x;\\mu,\\sigma^2) = P(x_1;\\mu_1,\\sigma_1^2)*P(x_2;\\mu_2,\\sigma_2^2)*P(x_3;\\mu_3,\\sigma_3^2)*...*P(x;\\mu_n,\\sigma_n^2)\n",
        "\\end{equation}<br>\n",
        "หรือ<br><br>\n",
        "\\begin{equation}\n",
        "P(x;\\mu,\\sigma^2) = \\Pi^n_{j=1}P(x_j;\\mu_j,\\sigma^2_j)\n",
        "\\end{equation}<br>\n"
      ]
    },
    {
      "cell_type": "code",
      "metadata": {
        "id": "YFhSsFDmmSAY",
        "colab_type": "code",
        "colab": {}
      },
      "source": [
        "class GD:\n",
        "  def __init__(self):\n",
        "    self.X = 0\n",
        "    self.sigma2 = 0\n",
        "    self.P = 0\n",
        "    self.u = 0\n",
        "    self.e = 0.0001\n",
        "\n",
        "  def fit(self,X):\n",
        "    m = X.shape[0]\n",
        "    u = (1/m)*np.array([sum(X[0]),sum(X[1])])\n",
        "    sigma2 = (1/m)*(X-u)**2\n",
        "    sigma2 = [sum(sigma2[0]),sum(sigma2[1])]\n",
        "    P = (1/(np.sqrt(2*np.pi)*np.sqrt(sigma2)))*np.exp(-((X-u)**2)/(list(map(lambda x:x*2,sigma2)))) \n",
        "    self.X = X\n",
        "    self.P = P\n",
        "    self.u = u\n",
        "    self.sigma2 = sigma2\n",
        "\n",
        "  def score(self,X,y):\n",
        "    m = X.shape[0]\n",
        "    pred = self.predict(X)\n",
        "    sc = f1_score(y,pred)\n",
        "    return sc\n",
        "\n",
        "  def CVfit(self,Xval,yval,epoch=10000):\n",
        "    e = 0\n",
        "    cost = []\n",
        "    for i in range(epoch//2):\n",
        "      now = self.score(Xval,yval)\n",
        "      cost.append(now)\n",
        "      if now>e:\n",
        "        e = now\n",
        "        se = self.e\n",
        "      self.e += 0.0002\n",
        "    self.e = se\n",
        "    return [e,cost]\n",
        "\n",
        "  def predict(self,X):\n",
        "    pred = (1/(np.sqrt(2*np.pi)*np.sqrt(self.sigma2)))*np.exp(-((X-self.u)**2)/(list(map(lambda x:x*2,self.sigma2)))) \n",
        "    return np.array(list(map(int,pred[0]*pred[1]<self.e)))"
      ],
      "execution_count": 0,
      "outputs": []
    },
    {
      "cell_type": "markdown",
      "metadata": {
        "id": "AdW2L7vvIuDF",
        "colab_type": "text"
      },
      "source": [
        "ทำการสร้าง Model Anomaly detection"
      ]
    },
    {
      "cell_type": "code",
      "metadata": {
        "id": "3X8BQG0i-c2T",
        "colab_type": "code",
        "colab": {}
      },
      "source": [
        "w = GD()"
      ],
      "execution_count": 0,
      "outputs": []
    },
    {
      "cell_type": "markdown",
      "metadata": {
        "id": "txLyJLf2I1WX",
        "colab_type": "text"
      },
      "source": [
        "ทำการ Train Model ด้วย Training set"
      ]
    },
    {
      "cell_type": "code",
      "metadata": {
        "id": "9T3M0GEOAndQ",
        "colab_type": "code",
        "colab": {}
      },
      "source": [
        "w.fit(X)"
      ],
      "execution_count": 0,
      "outputs": []
    },
    {
      "cell_type": "markdown",
      "metadata": {
        "id": "LdGVM4KhI5rG",
        "colab_type": "text"
      },
      "source": [
        "ทำ Cross Validation fit เพื่อหาค่า $\\epsilon$ ที่เหมาะสมที่สุด"
      ]
    },
    {
      "cell_type": "code",
      "metadata": {
        "id": "bavYabjOArxq",
        "colab_type": "code",
        "colab": {}
      },
      "source": [
        "[e,score]=w.CVfit(Xval,yval,10000)"
      ],
      "execution_count": 0,
      "outputs": []
    },
    {
      "cell_type": "markdown",
      "metadata": {
        "id": "BpDTm6cSJNu-",
        "colab_type": "text"
      },
      "source": [
        "ลอง Plot Gaussian Distribution ผลลัพท์ที่ได้ของทั้ง 2 Features "
      ]
    },
    {
      "cell_type": "markdown",
      "metadata": {
        "id": "SphT4WnWJa3q",
        "colab_type": "text"
      },
      "source": [
        "2D"
      ]
    },
    {
      "cell_type": "code",
      "metadata": {
        "id": "33AOjp9Reiuq",
        "colab_type": "code",
        "outputId": "986e042e-bc0c-4fd1-9fde-aa36ffaef1af",
        "colab": {
          "base_uri": "https://localhost:8080/",
          "height": 279
        }
      },
      "source": [
        "sns.lineplot(X[0],w.P[0])\n",
        "sns.lineplot(X[1],w.P[1]);"
      ],
      "execution_count": 0,
      "outputs": [
        {
          "output_type": "display_data",
          "data": {
            "image/png": "[encoded data removed]",
            "text/plain": [
              "<Figure size 432x288 with 1 Axes>"
            ]
          },
          "metadata": {
            "tags": [],
            "needs_background": "light"
          }
        }
      ]
    },
    {
      "cell_type": "markdown",
      "metadata": {
        "id": "byhQ8M9OJdM-",
        "colab_type": "text"
      },
      "source": [
        "3D เพื่อความ Cool"
      ]
    },
    {
      "cell_type": "code",
      "metadata": {
        "id": "Xg0kb5ZZlVEq",
        "colab_type": "code",
        "colab": {}
      },
      "source": [
        "import plotly.graph_objects as go\n",
        "fig = go.Figure(data=[go.Surface(x=X[0],y=X[1],z=np.dot(np.array([w.P[0]]).T,np.array([w.P[1]])).T)])\n",
        "fig.update_layout(title='Plot', autosize=False,\n",
        "                  width=1000, height=1000,\n",
        "                  margin=dict(l=65, r=50, b=65, t=90))\n",
        "fig.show()"
      ],
      "execution_count": 0,
      "outputs": []
    },
    {
      "cell_type": "markdown",
      "metadata": {
        "id": "5rE28Ck1JfvT",
        "colab_type": "text"
      },
      "source": [
        "ดูกราฟ Score เพื่อเปรียบเทียบผลลัพท์"
      ]
    },
    {
      "cell_type": "code",
      "metadata": {
        "id": "Kz4CirO3CGy3",
        "colab_type": "code",
        "outputId": "30be17a2-f589-488e-a22a-5f62ff61d9a1",
        "colab": {
          "base_uri": "https://localhost:8080/",
          "height": 295
        }
      },
      "source": [
        "ax = sns.lineplot(np.linspace(0,len(score),len(score)),score);\n",
        "ax.set_title(\"Score by Epsilon\")\n",
        "ax.set_ylabel(\"Score\")\n",
        "ax.set_xlabel(\"epsilon\");"
      ],
      "execution_count": 33,
      "outputs": [
        {
          "output_type": "display_data",
          "data": {
            "image/png": "[encoded data removed]",
            "text/plain": [
              "<Figure size 432x288 with 1 Axes>"
            ]
          },
          "metadata": {
            "tags": [],
            "needs_background": "light"
          }
        }
      ]
    },
    {
      "cell_type": "markdown",
      "metadata": {
        "id": "bgR8js3WKPty",
        "colab_type": "text"
      },
      "source": [
        "ซึ่งจะได้ผลลัพท์เป็น"
      ]
    },
    {
      "cell_type": "code",
      "metadata": {
        "id": "z-_3lhm0gs9I",
        "colab_type": "code",
        "outputId": "7206306b-9b91-4437-8103-b728ce5d3463",
        "colab": {
          "base_uri": "https://localhost:8080/",
          "height": 34
        }
      },
      "source": [
        "print(f'Best Epsilon is {w.e}')"
      ],
      "execution_count": 0,
      "outputs": [
        {
          "output_type": "stream",
          "text": [
            "Best Epsilon is 0.0001\n"
          ],
          "name": "stdout"
        }
      ]
    },
    {
      "cell_type": "code",
      "metadata": {
        "id": "_4LE12ESsG1-",
        "colab_type": "code",
        "colab": {
          "base_uri": "https://localhost:8080/",
          "height": 34
        },
        "outputId": "031e32d1-9105-4c70-b3c9-d7c8097be272"
      },
      "source": [
        "print(f'Test score is {w.score(Xval_test,yval_test)}')"
      ],
      "execution_count": 27,
      "outputs": [
        {
          "output_type": "stream",
          "text": [
            "Test score is 0.8\n"
          ],
          "name": "stdout"
        }
      ]
    },
    {
      "cell_type": "markdown",
      "metadata": {
        "id": "ZT-9fBSdM_Mq",
        "colab_type": "text"
      },
      "source": [
        "เมื่อนำใช้ $\\epsilon$ มา Plot เป็น Threshold จะได้ดังภาพ"
      ]
    },
    {
      "cell_type": "markdown",
      "metadata": {
        "id": "Ps9sIAMGNONj",
        "colab_type": "text"
      },
      "source": [
        "Training set"
      ]
    },
    {
      "cell_type": "code",
      "metadata": {
        "id": "G7cI07kDNtJF",
        "colab_type": "code",
        "outputId": "6de1ae47-228b-48a0-ad39-8a3f78a2e795",
        "colab": {
          "base_uri": "https://localhost:8080/",
          "height": 266
        }
      },
      "source": [
        "d = (Xval[np.array([w.predict(Xval),1]).T[0]>0] -[np.mean(Xval[0]*np.abs(w.predict(Xval)-1)),np.mean(Xval[1]*np.abs(w.predict(Xval)-1))])\n",
        "\n",
        "fig, ax = plt.subplots()\n",
        "\n",
        "c1 = plt.Circle((np.mean(X[0]*np.abs(w.predict(X)-1)), np.mean(X[1]*np.abs(w.predict(X)-1))), np.min(np.sqrt(d[0]**2 +d[1]**2)), color='r',fill=False)\n",
        "ax.add_artist(c1)\n",
        "ax.scatter(X[0],X[1],c=w.predict(X));"
      ],
      "execution_count": 41,
      "outputs": [
        {
          "output_type": "display_data",
          "data": {
            "image/png": "[encoded data removed]",
            "text/plain": [
              "<Figure size 432x288 with 1 Axes>"
            ]
          },
          "metadata": {
            "tags": [],
            "needs_background": "light"
          }
        }
      ]
    },
    {
      "cell_type": "markdown",
      "metadata": {
        "id": "R7GiUsZpNTdA",
        "colab_type": "text"
      },
      "source": [
        "Validation set"
      ]
    },
    {
      "cell_type": "code",
      "metadata": {
        "id": "eeMxYqz2ybgq",
        "colab_type": "code",
        "outputId": "5675db16-8e92-4e28-8645-21eb5d809235",
        "colab": {
          "base_uri": "https://localhost:8080/",
          "height": 265
        }
      },
      "source": [
        "fig, ax = plt.subplots()\n",
        "\n",
        "c1 = plt.Circle((np.mean(Xval[0]*np.abs(w.predict(Xval)-1)), np.mean(Xval[1]*np.abs(w.predict(Xval)-1))), np.min(np.sqrt(d[0]**2 +d[1]**2)), color='r',fill=False)\n",
        "ax.add_artist(c1)\n",
        "ax.scatter(Xval[0],Xval[1],c=w.predict(Xval));"
      ],
      "execution_count": 42,
      "outputs": [
        {
          "output_type": "display_data",
          "data": {
            "image/png": "[encoded data removed]",
            "text/plain": [
              "<Figure size 432x288 with 1 Axes>"
            ]
          },
          "metadata": {
            "tags": [],
            "needs_background": "light"
          }
        }
      ]
    },
    {
      "cell_type": "markdown",
      "metadata": {
        "id": "x-D_OTp5NWeJ",
        "colab_type": "text"
      },
      "source": [
        "Test set"
      ]
    },
    {
      "cell_type": "code",
      "metadata": {
        "id": "JQohI4MJNkS5",
        "colab_type": "code",
        "outputId": "6e1a0cd1-04cd-4fda-bcec-12b843ae4c9d",
        "colab": {
          "base_uri": "https://localhost:8080/",
          "height": 265
        }
      },
      "source": [
        "fig, ax = plt.subplots()\n",
        "\n",
        "c1 = plt.Circle((np.mean(Xval_test[0]*np.abs(w.predict(Xval_test)-1)), np.mean(Xval_test[1]*np.abs(w.predict(Xval_test)-1))), np.min(np.sqrt(d[0]**2 +d[1]**2)), color='r',fill=False)\n",
        "ax.add_artist(c1)\n",
        "ax.scatter(Xval_test[0],Xval_test[1],c=w.predict(Xval_test));"
      ],
      "execution_count": 43,
      "outputs": [
        {
          "output_type": "display_data",
          "data": {
            "image/png": "[encoded data removed]",
            "text/plain": [
              "<Figure size 432x288 with 1 Axes>"
            ]
          },
          "metadata": {
            "tags": [],
            "needs_background": "light"
          }
        }
      ]
    }
  ]
}