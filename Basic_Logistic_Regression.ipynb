{
  "nbformat": 4,
  "nbformat_minor": 0,
  "metadata": {
    "colab": {
      "name": "Basic Logistic Regression.ipynb",
      "provenance": [],
      "collapsed_sections": [],
      "authorship_tag": "ABX9TyOyrfpssnQ7JTPIYPRD09dm",
      "include_colab_link": true
    },
    "kernelspec": {
      "name": "python3",
      "display_name": "Python 3"
    }
  },
  "cells": [
    {
      "cell_type": "markdown",
      "metadata": {
        "id": "view-in-github",
        "colab_type": "text"
      },
      "source": [
        "<a href=\"https://colab.research.google.com/github/BankNatchapol/ML-Algorithm/blob/master/Basic_Logistic_Regression.ipynb\" target=\"_parent\"><img src=\"https://colab.research.google.com/assets/colab-badge.svg\" alt=\"Open In Colab\"/></a>"
      ]
    },
    {
      "cell_type": "markdown",
      "metadata": {
        "id": "8tkp9GdcOLOG",
        "colab_type": "text"
      },
      "source": [
        "#**Logistic Regression**\n",
        "---\n",
        "ถ้าพูดถึงการทำ classification แล้ว algorithm แรกๆที่นึกถึงก็คงหนีไม่พ้น Logistic Regression ซึ่งเป็น algorithm แรกๆในการเรียนรู้ โดย idea ของ Logistic Regression นั้นมาจากเมื่อข้อมูลของเรานั้นมี target เป็น 0,1 หรือ เป็น yes,no แล้วทำไมในการทำ classification เราถึงไม่ใช้ Linear Regression ล่ะ เราลองมาดูกันครับ"
      ]
    },
    {
      "cell_type": "code",
      "metadata": {
        "id": "kFogOtyjRKMQ",
        "colab_type": "code",
        "colab": {}
      },
      "source": [
        "import numpy as np\n",
        "import matplotlib.pyplot as plt\n",
        "import pandas as pd"
      ],
      "execution_count": 0,
      "outputs": []
    },
    {
      "cell_type": "markdown",
      "metadata": {
        "id": "KM7HMHYtRNcR",
        "colab_type": "text"
      },
      "source": [
        "เมื่อหน้าตาของข้อมูลเป็นแบบนี้"
      ]
    },
    {
      "cell_type": "code",
      "metadata": {
        "id": "K9nbRBrP0elu",
        "colab_type": "code",
        "outputId": "b7400207-6a89-4061-aad1-382c5de77a30",
        "colab": {
          "base_uri": "https://localhost:8080/",
          "height": 265
        }
      },
      "source": [
        "x = np.array([[1,1.5,1.25,2.1,1.75,-0.5,-0.78,-1.25,-1.5,-1.75]]).reshape(10,1) # input data\n",
        "y = np.array([[1,1,1,1,1,0,0,0,0,0]]).reshape(10,1) # target\n",
        "plt.scatter(x,y);"
      ],
      "execution_count": 441,
      "outputs": [
        {
          "output_type": "display_data",
          "data": {
            "image/png": "[encoded data removed]",
            "text/plain": [
              "<Figure size 432x288 with 1 Axes>"
            ]
          },
          "metadata": {
            "tags": []
          }
        }
      ]
    },
    {
      "cell_type": "code",
      "metadata": {
        "id": "4392Ve5n26Ay",
        "colab_type": "code",
        "colab": {
          "base_uri": "https://localhost:8080/",
          "height": 281
        },
        "cellView": "form",
        "outputId": "ebb5d407-85d3-4aba-abc5-cc68190775c0"
      },
      "source": [
        "#@title Linear Regression Plot\n",
        "def LR(x,y,a,b):\n",
        "  def costFunction(s0,s1,m): # Function that return cost \n",
        "    diff = s0 + s1*x - y\n",
        "    summa = sum(map(lambda x:x**2,diff))\n",
        "    return (1/(2*m))*summa\n",
        "\n",
        "  s0 = 0\n",
        "  s1 = 0\n",
        "  alpha = 0.001 # learning rate\n",
        "  m = len(x)\n",
        "  dif = s0 + s1*x-  y\n",
        "  gradient0 = sum(dif)/m\n",
        "  gradient1 = sum(dif*x)/m\n",
        "  costLog = []\n",
        "  for i in range(1000): # Learning\n",
        "    diff = s0 + s1*x - y\n",
        "    gradient0 = sum(diff)/m\n",
        "    gradient1 = sum(diff*x)/m\n",
        "    s0 = s0 - alpha*gradient0\n",
        "    s1 = s1 - alpha*gradient1\n",
        "    costLog.append(costFunction(s0,s1,m))\n",
        "  para = np.array([[s0,s1]]).T\n",
        "  domain = np.array([[1]*int(abs(a*10)+b*10),np.arange(a,b,0.1)]).T\n",
        "  result = np.dot(domain[:int(abs(a*10)+b*10)],para)\n",
        "  plt.scatter(x,y)\n",
        "  plt.plot(np.arange(a,b,0.1),result.reshape(int(abs(a*10)+b*10),1))\n",
        "  plt.title('Linear Regression');\n",
        "  plt.scatter((0.5-s0)/s1,0.5,marker='x',c='red');\n",
        "  plt.plot([(0.5-s0)/s1,(0.5-s0)/s1],[0,1],'purple');\n",
        "  return para\n",
        "para = LR(x,y,-1,2.5);"
      ],
      "execution_count": 442,
      "outputs": [
        {
          "output_type": "display_data",
          "data": {
            "image/png": "[encoded data removed]",
            "text/plain": [
              "<Figure size 432x288 with 1 Axes>"
            ]
          },
          "metadata": {
            "tags": []
          }
        }
      ]
    },
    {
      "cell_type": "markdown",
      "metadata": {
        "id": "p_vgshYQYDXj",
        "colab_type": "text"
      },
      "source": [
        "ซึ่งดูเหมือนว่า Linear Regression จะใช้ได้ เพราะ ถ้าเรากำหนดว่า $ x>\\theta_0+\\theta_10.5 $ ให้เป็น y=1<br>หรือก็คือ <br>\n",
        "$h_{\\theta}\t\\geqslant0.5: y=1$<br>\n",
        "$h_{\\theta}<0.5: y=0$<br> \n",
        "ผลลัพท์ที่ได้ก็มีความแม่นยำพอสมควร"
      ]
    },
    {
      "cell_type": "code",
      "metadata": {
        "id": "AJP1tKrDZ0uP",
        "colab_type": "code",
        "colab": {
          "base_uri": "https://localhost:8080/",
          "height": 345
        },
        "cellView": "form",
        "outputId": "3762d954-77e3-4ba9-8d30-7585c04c0f7f"
      },
      "source": [
        "#@title Target compare with Predicted \n",
        "domain = np.array([[1]*len(x),x.T[0]]).T\n",
        "result = np.dot(domain,para)\n",
        "result = result.reshape(10,1)\n",
        "result = np.array([list(map(int,result>0.5))])\n",
        "pd.DataFrame({'Data':x.T[0],'Target':y.T[0],'Predicted':result[0]})"
      ],
      "execution_count": 443,
      "outputs": [
        {
          "output_type": "execute_result",
          "data": {
            "text/html": [
              "<div>\n",
              "<style scoped>\n",
              "    .dataframe tbody tr th:only-of-type {\n",
              "        vertical-align: middle;\n",
              "    }\n",
              "\n",
              "    .dataframe tbody tr th {\n",
              "        vertical-align: top;\n",
              "    }\n",
              "\n",
              "    .dataframe thead th {\n",
              "        text-align: right;\n",
              "    }\n",
              "</style>\n",
              "<table border=\"1\" class=\"dataframe\">\n",
              "  <thead>\n",
              "    <tr style=\"text-align: right;\">\n",
              "      <th></th>\n",
              "      <th>Data</th>\n",
              "      <th>Target</th>\n",
              "      <th>Predicted</th>\n",
              "    </tr>\n",
              "  </thead>\n",
              "  <tbody>\n",
              "    <tr>\n",
              "      <th>0</th>\n",
              "      <td>1.00</td>\n",
              "      <td>1</td>\n",
              "      <td>1</td>\n",
              "    </tr>\n",
              "    <tr>\n",
              "      <th>1</th>\n",
              "      <td>1.50</td>\n",
              "      <td>1</td>\n",
              "      <td>1</td>\n",
              "    </tr>\n",
              "    <tr>\n",
              "      <th>2</th>\n",
              "      <td>1.25</td>\n",
              "      <td>1</td>\n",
              "      <td>1</td>\n",
              "    </tr>\n",
              "    <tr>\n",
              "      <th>3</th>\n",
              "      <td>2.10</td>\n",
              "      <td>1</td>\n",
              "      <td>1</td>\n",
              "    </tr>\n",
              "    <tr>\n",
              "      <th>4</th>\n",
              "      <td>1.75</td>\n",
              "      <td>1</td>\n",
              "      <td>1</td>\n",
              "    </tr>\n",
              "    <tr>\n",
              "      <th>5</th>\n",
              "      <td>-0.50</td>\n",
              "      <td>0</td>\n",
              "      <td>0</td>\n",
              "    </tr>\n",
              "    <tr>\n",
              "      <th>6</th>\n",
              "      <td>-0.78</td>\n",
              "      <td>0</td>\n",
              "      <td>0</td>\n",
              "    </tr>\n",
              "    <tr>\n",
              "      <th>7</th>\n",
              "      <td>-1.25</td>\n",
              "      <td>0</td>\n",
              "      <td>0</td>\n",
              "    </tr>\n",
              "    <tr>\n",
              "      <th>8</th>\n",
              "      <td>-1.50</td>\n",
              "      <td>0</td>\n",
              "      <td>0</td>\n",
              "    </tr>\n",
              "    <tr>\n",
              "      <th>9</th>\n",
              "      <td>-1.75</td>\n",
              "      <td>0</td>\n",
              "      <td>0</td>\n",
              "    </tr>\n",
              "  </tbody>\n",
              "</table>\n",
              "</div>"
            ],
            "text/plain": [
              "   Data  Target  Predicted\n",
              "0  1.00       1          1\n",
              "1  1.50       1          1\n",
              "2  1.25       1          1\n",
              "3  2.10       1          1\n",
              "4  1.75       1          1\n",
              "5 -0.50       0          0\n",
              "6 -0.78       0          0\n",
              "7 -1.25       0          0\n",
              "8 -1.50       0          0\n",
              "9 -1.75       0          0"
            ]
          },
          "metadata": {
            "tags": []
          },
          "execution_count": 443
        }
      ]
    },
    {
      "cell_type": "markdown",
      "metadata": {
        "id": "UUOd2DkLdpL0",
        "colab_type": "text"
      },
      "source": [
        "**แต่** ถ้าเราลอง เพิ่ม outlier ไปสักตัว ผลลัพท์ที่ได้จะเปลี่ยนแปลงไปแบบนี้"
      ]
    },
    {
      "cell_type": "code",
      "metadata": {
        "id": "dnWAcsApcTjm",
        "colab_type": "code",
        "colab": {
          "base_uri": "https://localhost:8080/",
          "height": 265
        },
        "outputId": "3612ec32-9347-424e-be57-42e4077ad273"
      },
      "source": [
        "x = np.array([[1,1.5,1.25,2.1,1.75,-0.5,-0.78,-1.25,-1.5,-1.75,10]]).reshape(11,1) # input data\n",
        "y = np.array([[1,1,1,1,1,0,0,0,0,0,1]]).reshape(11,1) # target\n",
        "plt.scatter(x,y);"
      ],
      "execution_count": 444,
      "outputs": [
        {
          "output_type": "display_data",
          "data": {
            "image/png": "[encoded data removed]",
            "text/plain": [
              "<Figure size 432x288 with 1 Axes>"
            ]
          },
          "metadata": {
            "tags": []
          }
        }
      ]
    },
    {
      "cell_type": "code",
      "metadata": {
        "id": "8W3NFGcGd_3s",
        "colab_type": "code",
        "colab": {
          "base_uri": "https://localhost:8080/",
          "height": 281
        },
        "outputId": "6628c61d-cd0e-4433-f6dc-fc2a25d45916"
      },
      "source": [
        "para = LR(x,y,-2.2,6.2);"
      ],
      "execution_count": 445,
      "outputs": [
        {
          "output_type": "display_data",
          "data": {
            "image/png": "[encoded data removed]",
            "text/plain": [
              "<Figure size 432x288 with 1 Axes>"
            ]
          },
          "metadata": {
            "tags": []
          }
        }
      ]
    },
    {
      "cell_type": "markdown",
      "metadata": {
        "id": "gCMvZh3Vg9qs",
        "colab_type": "text"
      },
      "source": [
        "จะเห็นได้ว่า จุดแบ่งถูกเลื่อนออกไปจนทำให้การทำนายผิดพลาด ถ้าดูจากผลลัพท์จะเห็นได้ว่า มีการทำนายผิดพลาดมากถึง 40%"
      ]
    },
    {
      "cell_type": "code",
      "metadata": {
        "id": "uP1citbdggHi",
        "colab_type": "code",
        "colab": {
          "base_uri": "https://localhost:8080/",
          "height": 375
        },
        "cellView": "form",
        "outputId": "f38ba172-1ee7-4289-9fc5-250e5de85a84"
      },
      "source": [
        "#@title target compare with predicted\n",
        "domain = np.array([[1]*len(x),x.T[0]]).T\n",
        "result = np.dot(domain,para)\n",
        "result = result.reshape(11,1)\n",
        "result = np.array([list(map(int,result>0.5))])\n",
        "pd.DataFrame({'Data':x.T[0],'Target':y.T[0],'Predicted':result[0]})"
      ],
      "execution_count": 446,
      "outputs": [
        {
          "output_type": "execute_result",
          "data": {
            "text/html": [
              "<div>\n",
              "<style scoped>\n",
              "    .dataframe tbody tr th:only-of-type {\n",
              "        vertical-align: middle;\n",
              "    }\n",
              "\n",
              "    .dataframe tbody tr th {\n",
              "        vertical-align: top;\n",
              "    }\n",
              "\n",
              "    .dataframe thead th {\n",
              "        text-align: right;\n",
              "    }\n",
              "</style>\n",
              "<table border=\"1\" class=\"dataframe\">\n",
              "  <thead>\n",
              "    <tr style=\"text-align: right;\">\n",
              "      <th></th>\n",
              "      <th>Data</th>\n",
              "      <th>Target</th>\n",
              "      <th>Predicted</th>\n",
              "    </tr>\n",
              "  </thead>\n",
              "  <tbody>\n",
              "    <tr>\n",
              "      <th>0</th>\n",
              "      <td>1.00</td>\n",
              "      <td>1</td>\n",
              "      <td>0</td>\n",
              "    </tr>\n",
              "    <tr>\n",
              "      <th>1</th>\n",
              "      <td>1.50</td>\n",
              "      <td>1</td>\n",
              "      <td>0</td>\n",
              "    </tr>\n",
              "    <tr>\n",
              "      <th>2</th>\n",
              "      <td>1.25</td>\n",
              "      <td>1</td>\n",
              "      <td>0</td>\n",
              "    </tr>\n",
              "    <tr>\n",
              "      <th>3</th>\n",
              "      <td>2.10</td>\n",
              "      <td>1</td>\n",
              "      <td>1</td>\n",
              "    </tr>\n",
              "    <tr>\n",
              "      <th>4</th>\n",
              "      <td>1.75</td>\n",
              "      <td>1</td>\n",
              "      <td>0</td>\n",
              "    </tr>\n",
              "    <tr>\n",
              "      <th>5</th>\n",
              "      <td>-0.50</td>\n",
              "      <td>0</td>\n",
              "      <td>0</td>\n",
              "    </tr>\n",
              "    <tr>\n",
              "      <th>6</th>\n",
              "      <td>-0.78</td>\n",
              "      <td>0</td>\n",
              "      <td>0</td>\n",
              "    </tr>\n",
              "    <tr>\n",
              "      <th>7</th>\n",
              "      <td>-1.25</td>\n",
              "      <td>0</td>\n",
              "      <td>0</td>\n",
              "    </tr>\n",
              "    <tr>\n",
              "      <th>8</th>\n",
              "      <td>-1.50</td>\n",
              "      <td>0</td>\n",
              "      <td>0</td>\n",
              "    </tr>\n",
              "    <tr>\n",
              "      <th>9</th>\n",
              "      <td>-1.75</td>\n",
              "      <td>0</td>\n",
              "      <td>0</td>\n",
              "    </tr>\n",
              "    <tr>\n",
              "      <th>10</th>\n",
              "      <td>10.00</td>\n",
              "      <td>1</td>\n",
              "      <td>1</td>\n",
              "    </tr>\n",
              "  </tbody>\n",
              "</table>\n",
              "</div>"
            ],
            "text/plain": [
              "     Data  Target  Predicted\n",
              "0    1.00       1          0\n",
              "1    1.50       1          0\n",
              "2    1.25       1          0\n",
              "3    2.10       1          1\n",
              "4    1.75       1          0\n",
              "5   -0.50       0          0\n",
              "6   -0.78       0          0\n",
              "7   -1.25       0          0\n",
              "8   -1.50       0          0\n",
              "9   -1.75       0          0\n",
              "10  10.00       1          1"
            ]
          },
          "metadata": {
            "tags": []
          },
          "execution_count": 446
        }
      ]
    },
    {
      "cell_type": "markdown",
      "metadata": {
        "id": "wpnFVaCYi7CL",
        "colab_type": "text"
      },
      "source": [
        "นี่จึงเป็นเหตุผลที่เราใช้ Logistic Regression เพื่อให้ได้ผลลัพท์ที่ดีขึ้น <br>\n",
        "ดังนั้นเรามาเริ่มกันเลยครับ\n",
        "\n",
        "\n",
        "---\n",
        "\n",
        "<br>\n",
        "เริ่มกันกับข้อมูลใหม่\n"
      ]
    },
    {
      "cell_type": "code",
      "metadata": {
        "id": "ZkWzWHZVUZfo",
        "colab_type": "code",
        "colab": {
          "base_uri": "https://localhost:8080/",
          "height": 265
        },
        "outputId": "b530b437-9dca-4a46-8987-ac47d565fb65"
      },
      "source": [
        "# x = np.array([[-20,10,0,10,2,-10,5,3,-4,1]]).reshape(10,1) # input data\n",
        "# y = np.array([[0,1,0,1,1,0,1,1,0,1]]).reshape(10,1) # target\n",
        "\n",
        "x = np.array([[1,1.5,1.25,2.1,1.75,-0.5,-0.78,-1.25,-1.5,-1.75,10]]).reshape(11,1) # input data\n",
        "y = np.array([[1,1,1,1,1,0,0,0,0,0,1]]).reshape(11,1) # target\n",
        "\n",
        "plt.scatter(x,y);"
      ],
      "execution_count": 447,
      "outputs": [
        {
          "output_type": "display_data",
          "data": {
            "image/png": "[encoded data removed]",
            "text/plain": [
              "<Figure size 432x288 with 1 Axes>"
            ]
          },
          "metadata": {
            "tags": []
          }
        }
      ]
    },
    {
      "cell_type": "markdown",
      "metadata": {
        "id": "TCUQV_gHkfUR",
        "colab_type": "text"
      },
      "source": [
        "ในการทำ Logistic Regression นั้น จะมีสิ่งที่แตกต่างจาก การทำ Linear Regression อยู่ 2 อย่าง <br><br>\n",
        "1.hypothesis function <br>\n",
        "2.cost function <br><br>\n",
        "ซึ่งตัว hypothesis function ของ Logistic Regression จะเพิ่ม sigmoid function เข้ามา <br><br>\n",
        "\\begin{equation}\n",
        "\\sigma(z) = \\frac{1}{1 + e^{-z}}\n",
        "\\end{equation}\n",
        "<br>\n",
        "จะได้ hypothesis functionn เป็น\n",
        "<br><br>\n",
        "\\begin{equation}\n",
        "h_{\\theta}(x) = \\sigma(\\theta^Tx)\n",
        "\\end{equation}\n",
        "<br>\n",
        "หรือ\n",
        "<br>\n",
        "\\begin{equation}\n",
        "h_{\\theta}(x) = \\frac{1}{1 + e^{-\\theta^Tx}}\n",
        "\\end{equation}\n",
        "<br><br>\n",
        "ซึ่งจากการที่ผลลัพท์ของ classification เป็น 0,1 นั้น ทำให้ผลลัพท์จาก hypothesis function $h_\\theta(x)$ นั้นบอกได้ถึงความน่าจะเป็นของการที่จะได้ผลลัพท์ 1 และ $1- h_\\theta(x)$ บอกถึงความน่าจะเป็นที่จะได้ผลลัพท์เป็น 0<br>\n",
        "ซึ่งเราสามารถเขียนออกมาได้เป็น <br>\n",
        "\\begin{equation}\n",
        "h_{\\theta}(x) = P(y=i|x;\\theta)\n",
        "\\end{equation}\n",
        "<br><br>"
      ]
    },
    {
      "cell_type": "code",
      "metadata": {
        "id": "tQiJIFh4NJ2s",
        "colab_type": "code",
        "colab": {}
      },
      "source": [
        "def sigmoid(z): #sigmoid function\n",
        "  return 1/(1+np.exp(-1*z))\n",
        "\n",
        "def hypo(theta,x): #hypothesis function\n",
        "  return sigmoid(np.dot(theta,x.T))"
      ],
      "execution_count": 0,
      "outputs": []
    },
    {
      "cell_type": "markdown",
      "metadata": {
        "id": "6ifqe7njrvVh",
        "colab_type": "text"
      },
      "source": [
        "ในส่วนของ cost function ของ Logistic Regression นั้นจะไม่เหมือนกับใน Linear Regression คือ Cross-Entropy โดยจะมี function เป็น <br><br>\n",
        "\\begin{equation}\n",
        "J(\\theta) = -\\frac{1}{m}\\sum^m_{i=1}[y^{(i)}log(h_\\theta(x^{(i)}))+(1-y^{(i)})log(1-h_\\theta(x^{(i)}))]\n",
        "\\end{equation}\n",
        "<br>\n",
        "หรือ เมื่อ Vectorized \n",
        "<br><br>\n",
        "\\begin{equation}\n",
        "J(\\theta) = -\\frac{1}{m}[y^{T}log(h_\\theta(x))+(1-y^{T})log(1-h_\\theta(x))]\n",
        "\\end{equation}\n",
        "<br><br>\n",
        "ในส่วนของ Gradient Descent Algorithm เมื่อใช้ cost function ใหม่ จะได้เป็น<br>\n",
        ">$repeat\\;until\\;convergence$ {<br>\n",
        "\\begin{equation}\n",
        "\\theta_j := \\theta_j - \\frac{\\alpha}{m}\\sum^m_{i=1}(h_\\theta(x^{(i)})-y^{(i)})x^{(i)}_j\n",
        "\\end{equation}\n",
        ">}\n",
        "\n",
        "หรือ เมื่อ Vectorized\n",
        ">$repeat\\;until\\;convergence$ {<br>\n",
        "\\begin{equation}\n",
        "\\theta_j := \\theta_j - \\frac{\\alpha}{m}x^T(\\sigma(\\theta^Tx)-\\overrightarrow{y})\n",
        "\\end{equation}\n",
        ">}<br>\n",
        "\n",
        "จะเห็นได้ว่าสมการในการ update parameter นั้นจะเหมือนกับสมการของ linear regression เนื่องจากเมื่อทำ partial differentiate กับ cost function ของ logistic regression นั้นจะได้ผลลัพท์เหมือนกับของ linear regression "
      ]
    },
    {
      "cell_type": "code",
      "metadata": {
        "id": "de7X2ZYMrvn9",
        "colab_type": "code",
        "colab": {}
      },
      "source": [
        "def cost(theta,x,y): #cost function\n",
        "  m = len(x)\n",
        "  h = hypo(theta,x)\n",
        "  return (1/m)*(-np.dot(y.T,np.log(h).T)-np.dot((1-y.T),np.log(1-h).T))\n",
        "\n",
        "def GD(theta,x,y,alpha): #Gradient Descent\n",
        "  m = len(x)\n",
        "  upd = (alpha/m)*np.dot(x.T,(hypo(theta,x).T - y))\n",
        "  return theta - upd"
      ],
      "execution_count": 0,
      "outputs": []
    },
    {
      "cell_type": "markdown",
      "metadata": {
        "id": "QOKE5RPs4KP7",
        "colab_type": "text"
      },
      "source": [
        "กำหนด initial $\\theta$ เป็น 0<br>\n",
        "กำหนด learning rate $\\alpha$ เป็น 0.01\n"
      ]
    },
    {
      "cell_type": "code",
      "metadata": {
        "id": "H7UFYKeAM6ft",
        "colab_type": "code",
        "colab": {}
      },
      "source": [
        "theta = np.array([[0]]) # initial theta\n",
        "alpha = 0.01 # learning rate"
      ],
      "execution_count": 0,
      "outputs": []
    },
    {
      "cell_type": "markdown",
      "metadata": {
        "id": "nf_AytbR5N0H",
        "colab_type": "text"
      },
      "source": [
        "ทำการ update parameter"
      ]
    },
    {
      "cell_type": "code",
      "metadata": {
        "id": "dmu5Gk-E0h_r",
        "colab_type": "code",
        "colab": {}
      },
      "source": [
        "J = cost(theta,x,y)+1\n",
        "while J-cost(theta,x,y)>0.001: # updating until cost difference(epsilon) <0.001\n",
        "  J = cost(theta,x,y)\n",
        "  theta = GD(theta,x,y,alpha)\n",
        "print('theta is ',theta)"
      ],
      "execution_count": 0,
      "outputs": []
    },
    {
      "cell_type": "markdown",
      "metadata": {
        "id": "OsSi_FhN5Sn3",
        "colab_type": "text"
      },
      "source": [
        "เมื่อมาลอง plot ดูจะพบว่าผลลัพท์ที่ได้มีความแม่นยำมากขึ้น<br>"
      ]
    },
    {
      "cell_type": "code",
      "metadata": {
        "id": "H2u71xRk-49V",
        "colab_type": "code",
        "outputId": "61d30cad-77ce-4c52-9fa5-17f68d524e97",
        "colab": {
          "base_uri": "https://localhost:8080/",
          "height": 265
        }
      },
      "source": [
        "ran = np.array([range(-10,20)]).T;\n",
        "plt.scatter(x,y,c='green');\n",
        "plt.scatter(0,sigmoid(theta*0),marker='x',c='red');\n",
        "plt.plot(np.dot(theta,ran.T)[0],hypo(theta,ran)[0]);\n",
        "plt.plot([0,0],[0,1],'purple');"
      ],
      "execution_count": 468,
      "outputs": [
        {
          "output_type": "display_data",
          "data": {
            "image/png": "[encoded data removed]",
            "text/plain": [
              "<Figure size 432x288 with 1 Axes>"
            ]
          },
          "metadata": {
            "tags": []
          }
        }
      ]
    },
    {
      "cell_type": "markdown",
      "metadata": {
        "id": "GAnoQmUJ5yEg",
        "colab_type": "text"
      },
      "source": [
        "และลองเปรียบเทียบผลลัพท์จากการทำนาย กับ เป้าหมาย "
      ]
    },
    {
      "cell_type": "code",
      "metadata": {
        "id": "OOcypHGRDXQs",
        "colab_type": "code",
        "outputId": "2597206c-ea6d-45ee-d32c-72d788680e02",
        "colab": {
          "base_uri": "https://localhost:8080/",
          "height": 375
        }
      },
      "source": [
        "z = hypo(theta,x)[0]\n",
        "pd.DataFrame({'Data':x.T[0], 'Target':y.T[0],'Predicted':list(map(int,(z>0.5)))}) # result"
      ],
      "execution_count": 466,
      "outputs": [
        {
          "output_type": "execute_result",
          "data": {
            "text/html": [
              "<div>\n",
              "<style scoped>\n",
              "    .dataframe tbody tr th:only-of-type {\n",
              "        vertical-align: middle;\n",
              "    }\n",
              "\n",
              "    .dataframe tbody tr th {\n",
              "        vertical-align: top;\n",
              "    }\n",
              "\n",
              "    .dataframe thead th {\n",
              "        text-align: right;\n",
              "    }\n",
              "</style>\n",
              "<table border=\"1\" class=\"dataframe\">\n",
              "  <thead>\n",
              "    <tr style=\"text-align: right;\">\n",
              "      <th></th>\n",
              "      <th>Data</th>\n",
              "      <th>Target</th>\n",
              "      <th>Predicted</th>\n",
              "    </tr>\n",
              "  </thead>\n",
              "  <tbody>\n",
              "    <tr>\n",
              "      <th>0</th>\n",
              "      <td>1.00</td>\n",
              "      <td>1</td>\n",
              "      <td>1</td>\n",
              "    </tr>\n",
              "    <tr>\n",
              "      <th>1</th>\n",
              "      <td>1.50</td>\n",
              "      <td>1</td>\n",
              "      <td>1</td>\n",
              "    </tr>\n",
              "    <tr>\n",
              "      <th>2</th>\n",
              "      <td>1.25</td>\n",
              "      <td>1</td>\n",
              "      <td>1</td>\n",
              "    </tr>\n",
              "    <tr>\n",
              "      <th>3</th>\n",
              "      <td>2.10</td>\n",
              "      <td>1</td>\n",
              "      <td>1</td>\n",
              "    </tr>\n",
              "    <tr>\n",
              "      <th>4</th>\n",
              "      <td>1.75</td>\n",
              "      <td>1</td>\n",
              "      <td>1</td>\n",
              "    </tr>\n",
              "    <tr>\n",
              "      <th>5</th>\n",
              "      <td>-0.50</td>\n",
              "      <td>0</td>\n",
              "      <td>0</td>\n",
              "    </tr>\n",
              "    <tr>\n",
              "      <th>6</th>\n",
              "      <td>-0.78</td>\n",
              "      <td>0</td>\n",
              "      <td>0</td>\n",
              "    </tr>\n",
              "    <tr>\n",
              "      <th>7</th>\n",
              "      <td>-1.25</td>\n",
              "      <td>0</td>\n",
              "      <td>0</td>\n",
              "    </tr>\n",
              "    <tr>\n",
              "      <th>8</th>\n",
              "      <td>-1.50</td>\n",
              "      <td>0</td>\n",
              "      <td>0</td>\n",
              "    </tr>\n",
              "    <tr>\n",
              "      <th>9</th>\n",
              "      <td>-1.75</td>\n",
              "      <td>0</td>\n",
              "      <td>0</td>\n",
              "    </tr>\n",
              "    <tr>\n",
              "      <th>10</th>\n",
              "      <td>10.00</td>\n",
              "      <td>1</td>\n",
              "      <td>1</td>\n",
              "    </tr>\n",
              "  </tbody>\n",
              "</table>\n",
              "</div>"
            ],
            "text/plain": [
              "     Data  Target  Predicted\n",
              "0    1.00       1          1\n",
              "1    1.50       1          1\n",
              "2    1.25       1          1\n",
              "3    2.10       1          1\n",
              "4    1.75       1          1\n",
              "5   -0.50       0          0\n",
              "6   -0.78       0          0\n",
              "7   -1.25       0          0\n",
              "8   -1.50       0          0\n",
              "9   -1.75       0          0\n",
              "10  10.00       1          1"
            ]
          },
          "metadata": {
            "tags": []
          },
          "execution_count": 466
        }
      ]
    }
  ]
}