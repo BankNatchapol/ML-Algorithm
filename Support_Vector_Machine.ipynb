{
  "nbformat": 4,
  "nbformat_minor": 0,
  "metadata": {
    "colab": {
      "name": "Support Vector Machine.ipynb",
      "provenance": [],
      "collapsed_sections": [],
      "authorship_tag": "ABX9TyOBn36RjlCz1zDbcowvdmvF",
      "include_colab_link": true
    },
    "kernelspec": {
      "name": "python3",
      "display_name": "Python 3"
    }
  },
  "cells": [
    {
      "cell_type": "markdown",
      "metadata": {
        "id": "view-in-github",
        "colab_type": "text"
      },
      "source": [
        "<a href=\"https://colab.research.google.com/github/BankNatchapol/ML-Algorithm/blob/master/Support_Vector_Machine.ipynb\" target=\"_parent\"><img src=\"https://colab.research.google.com/assets/colab-badge.svg\" alt=\"Open In Colab\"/></a>"
      ]
    },
    {
      "cell_type": "markdown",
      "metadata": {
        "id": "wWo7lxtp1uU9",
        "colab_type": "text"
      },
      "source": [
        "# **Support Vector Machine**\n",
        "\n",
        "---\n",
        "\n",
        "\n",
        "Import Library ที่จำเป็นในการสร้าง Model"
      ]
    },
    {
      "cell_type": "markdown",
      "metadata": {
        "id": "BGAr4Ziy2ZVt",
        "colab_type": "text"
      },
      "source": [
        "Library ในการ Prepare data"
      ]
    },
    {
      "cell_type": "code",
      "metadata": {
        "id": "fTKO4plx0gIN",
        "colab_type": "code",
        "colab": {}
      },
      "source": [
        "from sklearn.datasets import load_iris #Load Iris(flower) dataset \n",
        "from sklearn.model_selection import train_test_split #Use to separate data into Train and Test set\n",
        "import pandas as pd # Create dataframe "
      ],
      "execution_count": 0,
      "outputs": []
    },
    {
      "cell_type": "markdown",
      "metadata": {
        "id": "VzdfJOSs18Lm",
        "colab_type": "text"
      },
      "source": [
        "Library ในการทำการคำนวนและใช้งาน Model"
      ]
    },
    {
      "cell_type": "code",
      "metadata": {
        "id": "o9uvDJdq18gy",
        "colab_type": "code",
        "colab": {}
      },
      "source": [
        "from sklearn import svm # Create Model Support Vector Machine\n",
        "from sklearn.metrics import confusion_matrix, f1_score # Performance Checking\n",
        "import numpy as np # Basic calculation"
      ],
      "execution_count": 0,
      "outputs": []
    },
    {
      "cell_type": "markdown",
      "metadata": {
        "id": "671tf2Sg2xLf",
        "colab_type": "text"
      },
      "source": [
        "Library ในการทำ Visualization"
      ]
    },
    {
      "cell_type": "code",
      "metadata": {
        "id": "ss7onMPX2xUy",
        "colab_type": "code",
        "colab": {}
      },
      "source": [
        "import matplotlib.pyplot as plt # Basic plot\n",
        "from mlxtend.plotting import plot_decision_regions # Area plot"
      ],
      "execution_count": 0,
      "outputs": []
    },
    {
      "cell_type": "markdown",
      "metadata": {
        "id": "WaFCIbOO3EV9",
        "colab_type": "text"
      },
      "source": [
        "เริ่มจากลองใช้งานกับ data ง่ายๆดูก่อน"
      ]
    },
    {
      "cell_type": "code",
      "metadata": {
        "id": "0JuFNkPn-sBO",
        "colab_type": "code",
        "colab": {}
      },
      "source": [
        "X = np.array([[0, 0], [1, 1]])\n",
        "y = np.array([0, 1])\n",
        "clf = svm.SVC(kernel='linear') # Train model by Linear Kernel\n",
        "clf.fit(X, y);"
      ],
      "execution_count": 0,
      "outputs": []
    },
    {
      "cell_type": "markdown",
      "metadata": {
        "id": "vfLtbxzR30WP",
        "colab_type": "text"
      },
      "source": [
        "ผลลัพท์ดูใช้ได้เลยครับ"
      ]
    },
    {
      "cell_type": "code",
      "metadata": {
        "id": "Vfu30cia1NBH",
        "colab_type": "code",
        "outputId": "8de82c1b-4037-499f-8d7d-2aae7741fc97",
        "colab": {
          "base_uri": "https://localhost:8080/",
          "height": 34
        }
      },
      "source": [
        "clf.predict([[2., 2.]])"
      ],
      "execution_count": 0,
      "outputs": [
        {
          "output_type": "execute_result",
          "data": {
            "text/plain": [
              "array([1])"
            ]
          },
          "metadata": {
            "tags": []
          },
          "execution_count": 26
        }
      ]
    },
    {
      "cell_type": "markdown",
      "metadata": {
        "id": "BcarR1xQ4CFM",
        "colab_type": "text"
      },
      "source": [
        "ลอง plot Hyperplane ที่เป็นตัวแบ่งประเภทข้อมูลดู"
      ]
    },
    {
      "cell_type": "code",
      "metadata": {
        "id": "rJ-VE9OZ1iK1",
        "colab_type": "code",
        "outputId": "865ce5d2-cc8a-4586-cf69-947a0147e43f",
        "colab": {
          "base_uri": "https://localhost:8080/",
          "height": 320
        }
      },
      "source": [
        "a = np.linspace(0,1)\n",
        "Y = (-clf.coef_[0,0]*a - clf.intercept_)/clf.coef_[0,1]\n",
        "plt.figure(figsize=(5,5));\n",
        "plt.scatter(X[:,0],X[:,1],c=y);\n",
        "plt.plot(a,Y);"
      ],
      "execution_count": 0,
      "outputs": [
        {
          "output_type": "display_data",
          "data": {
            "image/png": "[encoded data removed]",
            "text/plain": [
              "<Figure size 360x360 with 1 Axes>"
            ]
          },
          "metadata": {
            "tags": []
          }
        }
      ]
    },
    {
      "cell_type": "markdown",
      "metadata": {
        "id": "1kP_12274pKV",
        "colab_type": "text"
      },
      "source": [
        "มาลองกับ Data ที่ยากกว่านั้นดูบ้างครับ\n"
      ]
    },
    {
      "cell_type": "markdown",
      "metadata": {
        "id": "tnDdWyJX4tGX",
        "colab_type": "text"
      },
      "source": [
        "โดยจะใช้ Iris dataset ซึ่งถือเป็น dataset พื้นฐานที่ใช้ในการเรียนรู้ Model ประเภท Classifier "
      ]
    },
    {
      "cell_type": "code",
      "metadata": {
        "id": "riAIsbb4651p",
        "colab_type": "code",
        "outputId": "a08e8e11-1b71-45d8-be0c-fa4058f4c0b5",
        "colab": {
          "base_uri": "https://localhost:8080/",
          "height": 118
        }
      },
      "source": [
        "data = load_iris(return_X_y=False)\n",
        "for i in data.keys():\n",
        "  print(i)"
      ],
      "execution_count": 0,
      "outputs": [
        {
          "output_type": "stream",
          "text": [
            "data\n",
            "target\n",
            "target_names\n",
            "DESCR\n",
            "feature_names\n",
            "filename\n"
          ],
          "name": "stdout"
        }
      ]
    },
    {
      "cell_type": "markdown",
      "metadata": {
        "id": "Fkc26auU4-Ct",
        "colab_type": "text"
      },
      "source": [
        "จากตารางจะเห็นว่า ข้อมูลของเราที่ได้มานั้นมีตัว Data เป็นขนาดของใบดอก มี 4 Features"
      ]
    },
    {
      "cell_type": "code",
      "metadata": {
        "id": "X-_JLxI1koov",
        "colab_type": "code",
        "outputId": "7f0712e8-495d-4321-808c-03e6d2efd18c",
        "colab": {
          "base_uri": "https://localhost:8080/",
          "height": 195
        }
      },
      "source": [
        "df = pd.DataFrame(data = data.data,columns = data.feature_names )\n",
        "df.head()"
      ],
      "execution_count": 0,
      "outputs": [
        {
          "output_type": "execute_result",
          "data": {
            "text/html": [
              "<div>\n",
              "<style scoped>\n",
              "    .dataframe tbody tr th:only-of-type {\n",
              "        vertical-align: middle;\n",
              "    }\n",
              "\n",
              "    .dataframe tbody tr th {\n",
              "        vertical-align: top;\n",
              "    }\n",
              "\n",
              "    .dataframe thead th {\n",
              "        text-align: right;\n",
              "    }\n",
              "</style>\n",
              "<table border=\"1\" class=\"dataframe\">\n",
              "  <thead>\n",
              "    <tr style=\"text-align: right;\">\n",
              "      <th></th>\n",
              "      <th>sepal length (cm)</th>\n",
              "      <th>sepal width (cm)</th>\n",
              "      <th>petal length (cm)</th>\n",
              "      <th>petal width (cm)</th>\n",
              "    </tr>\n",
              "  </thead>\n",
              "  <tbody>\n",
              "    <tr>\n",
              "      <th>0</th>\n",
              "      <td>5.1</td>\n",
              "      <td>3.5</td>\n",
              "      <td>1.4</td>\n",
              "      <td>0.2</td>\n",
              "    </tr>\n",
              "    <tr>\n",
              "      <th>1</th>\n",
              "      <td>4.9</td>\n",
              "      <td>3.0</td>\n",
              "      <td>1.4</td>\n",
              "      <td>0.2</td>\n",
              "    </tr>\n",
              "    <tr>\n",
              "      <th>2</th>\n",
              "      <td>4.7</td>\n",
              "      <td>3.2</td>\n",
              "      <td>1.3</td>\n",
              "      <td>0.2</td>\n",
              "    </tr>\n",
              "    <tr>\n",
              "      <th>3</th>\n",
              "      <td>4.6</td>\n",
              "      <td>3.1</td>\n",
              "      <td>1.5</td>\n",
              "      <td>0.2</td>\n",
              "    </tr>\n",
              "    <tr>\n",
              "      <th>4</th>\n",
              "      <td>5.0</td>\n",
              "      <td>3.6</td>\n",
              "      <td>1.4</td>\n",
              "      <td>0.2</td>\n",
              "    </tr>\n",
              "  </tbody>\n",
              "</table>\n",
              "</div>"
            ],
            "text/plain": [
              "   sepal length (cm)  sepal width (cm)  petal length (cm)  petal width (cm)\n",
              "0                5.1               3.5                1.4               0.2\n",
              "1                4.9               3.0                1.4               0.2\n",
              "2                4.7               3.2                1.3               0.2\n",
              "3                4.6               3.1                1.5               0.2\n",
              "4                5.0               3.6                1.4               0.2"
            ]
          },
          "metadata": {
            "tags": []
          },
          "execution_count": 29
        }
      ]
    },
    {
      "cell_type": "markdown",
      "metadata": {
        "id": "-gZHOOIr5K89",
        "colab_type": "text"
      },
      "source": [
        "ในส่วนของ Target จะเป็นประเภทของดอกไม้ที่เราจะแยกประเภท มีอยู่ 3 ประเภทด้วยกันคือ 'setosa', 'versicolor', 'virginica'\n",
        "![alt text](https://s3.amazonaws.com/assets.datacamp.com/blog_assets/Machine+Learning+R/iris-machinelearning.png)"
      ]
    },
    {
      "cell_type": "code",
      "metadata": {
        "id": "BROtEiTyxJxq",
        "colab_type": "code",
        "outputId": "6c455a01-cdef-451d-f3e5-7de0fce130f9",
        "colab": {
          "base_uri": "https://localhost:8080/",
          "height": 34
        }
      },
      "source": [
        "data.target_names"
      ],
      "execution_count": 0,
      "outputs": [
        {
          "output_type": "execute_result",
          "data": {
            "text/plain": [
              "array(['setosa', 'versicolor', 'virginica'], dtype='<U10')"
            ]
          },
          "metadata": {
            "tags": []
          },
          "execution_count": 30
        }
      ]
    },
    {
      "cell_type": "markdown",
      "metadata": {
        "id": "tKfURYPb5pCd",
        "colab_type": "text"
      },
      "source": [
        "ในส่ว่นของ Target ของแต่ละ Row ข้อมูล จะเป็นตามข้อมมูลด้านล่าง ซึ่ง 0 คือ 'setosa', 1 คือ 'versicolor', 2 คือ 'virginica'"
      ]
    },
    {
      "cell_type": "code",
      "metadata": {
        "id": "us5e9rc2xHxq",
        "colab_type": "code",
        "outputId": "3095271d-c935-4a5e-8359-705270a1a01a",
        "colab": {
          "base_uri": "https://localhost:8080/",
          "height": 134
        }
      },
      "source": [
        "data.target"
      ],
      "execution_count": 0,
      "outputs": [
        {
          "output_type": "execute_result",
          "data": {
            "text/plain": [
              "array([0, 0, 0, 0, 0, 0, 0, 0, 0, 0, 0, 0, 0, 0, 0, 0, 0, 0, 0, 0, 0, 0,\n",
              "       0, 0, 0, 0, 0, 0, 0, 0, 0, 0, 0, 0, 0, 0, 0, 0, 0, 0, 0, 0, 0, 0,\n",
              "       0, 0, 0, 0, 0, 0, 1, 1, 1, 1, 1, 1, 1, 1, 1, 1, 1, 1, 1, 1, 1, 1,\n",
              "       1, 1, 1, 1, 1, 1, 1, 1, 1, 1, 1, 1, 1, 1, 1, 1, 1, 1, 1, 1, 1, 1,\n",
              "       1, 1, 1, 1, 1, 1, 1, 1, 1, 1, 1, 1, 2, 2, 2, 2, 2, 2, 2, 2, 2, 2,\n",
              "       2, 2, 2, 2, 2, 2, 2, 2, 2, 2, 2, 2, 2, 2, 2, 2, 2, 2, 2, 2, 2, 2,\n",
              "       2, 2, 2, 2, 2, 2, 2, 2, 2, 2, 2, 2, 2, 2, 2, 2, 2, 2])"
            ]
          },
          "metadata": {
            "tags": []
          },
          "execution_count": 31
        }
      ]
    },
    {
      "cell_type": "markdown",
      "metadata": {
        "id": "ECyKxwuN6BGQ",
        "colab_type": "text"
      },
      "source": [
        "ในที่นี้จะมีการโกงนิดหน่อย เนื่องจากข้อมูลนั้นมี 4 features ทำให้ไม่สามารถพลอตเป็น 2D ด้วยข้อมูลทั้งหมดในกราฟเดียวได้ <br>\n",
        "จริงๆควร plot ด้วย scatter_matrix แต่เนื่องจากเพื่อความเข้าใจง่าย จะยุบ Feature ให้เหลือ 2 Feature คือ Sepal Area และ Petal Area"
      ]
    },
    {
      "cell_type": "code",
      "metadata": {
        "id": "frXLlSNOlsmH",
        "colab_type": "code",
        "colab": {}
      },
      "source": [
        "X = np.zeros([data.data.shape[0],data.data.shape[1]//2])\n",
        "X[:,0] = data.data[:,0]* data.data[:,1]\n",
        "X[:,1] = data.data[:,2]* data.data[:,3]\n",
        "y = data.target"
      ],
      "execution_count": 0,
      "outputs": []
    },
    {
      "cell_type": "markdown",
      "metadata": {
        "id": "OX1_PjBP8wy3",
        "colab_type": "text"
      },
      "source": [
        "ลอง plot ข้อมูลที่ได้มาดู"
      ]
    },
    {
      "cell_type": "code",
      "metadata": {
        "id": "l-VpGNc5mhb0",
        "colab_type": "code",
        "outputId": "34bcd59d-3aaf-4555-87e0-ed867067e7ff",
        "colab": {
          "base_uri": "https://localhost:8080/",
          "height": 295
        }
      },
      "source": [
        "scatter = plt.scatter(X[:,0],X[:,1],c=y,label=data.feature_names)\n",
        "plt.title('Iris classes')\n",
        "plt.legend(handles=scatter.legend_elements()[0], labels=list(data.target_names))\n",
        "plt.xlabel('Sepal Area (cm^2)')\n",
        "plt.ylabel('Petal Area (cm^2)');\n"
      ],
      "execution_count": 0,
      "outputs": [
        {
          "output_type": "display_data",
          "data": {
            "image/png": "[encoded data removed]",
            "text/plain": [
              "<Figure size 432x288 with 1 Axes>"
            ]
          },
          "metadata": {
            "tags": []
          }
        }
      ]
    },
    {
      "cell_type": "markdown",
      "metadata": {
        "id": "7LFZQznI80hL",
        "colab_type": "text"
      },
      "source": [
        "ทำการ Train Test Split เพื่อแยกชุด Training set กับ Test set จะเห็นว่ามีการแบ่งเป็น Training set 75% และ Test set 25%"
      ]
    },
    {
      "cell_type": "code",
      "metadata": {
        "id": "ez_HqZV6jNc3",
        "colab_type": "code",
        "outputId": "e0cf5a36-a341-4c50-b234-36d3aedacd1c",
        "colab": {
          "base_uri": "https://localhost:8080/",
          "height": 84
        }
      },
      "source": [
        "X_train, X_test, y_train, y_test = train_test_split(X,y)\n",
        "print(f'X_train : {X_train.shape}\\ny_train : {y_train.shape}\\nX_test : {X_test.shape}\\ny_test : {y_test.shape}')"
      ],
      "execution_count": 0,
      "outputs": [
        {
          "output_type": "stream",
          "text": [
            "X_train : (112, 2)\n",
            "y_train : (112,)\n",
            "X_test : (38, 2)\n",
            "y_test : (38,)\n"
          ],
          "name": "stdout"
        }
      ]
    },
    {
      "cell_type": "markdown",
      "metadata": {
        "id": "WkH9NDj19eWN",
        "colab_type": "text"
      },
      "source": [
        "ทำการสร้าง Model Support Vector Machine โดยใช้ Linear Kernel<br>\n",
        "และ Train Model ด้วย Training set"
      ]
    },
    {
      "cell_type": "code",
      "metadata": {
        "id": "nPH2rzZAkOwH",
        "colab_type": "code",
        "outputId": "59d31fea-4c59-400f-b1a7-0d7bc02d2b5e",
        "colab": {
          "base_uri": "https://localhost:8080/",
          "height": 84
        }
      },
      "source": [
        "clf = svm.SVC(kernel='linear')\n",
        "clf.fit(X_train, y_train)"
      ],
      "execution_count": 0,
      "outputs": [
        {
          "output_type": "execute_result",
          "data": {
            "text/plain": [
              "SVC(C=1.0, break_ties=False, cache_size=200, class_weight=None, coef0=0.0,\n",
              "    decision_function_shape='ovr', degree=3, gamma='scale', kernel='linear',\n",
              "    max_iter=-1, probability=False, random_state=None, shrinking=True,\n",
              "    tol=0.001, verbose=False)"
            ]
          },
          "metadata": {
            "tags": []
          },
          "execution_count": 35
        }
      ]
    },
    {
      "cell_type": "markdown",
      "metadata": {
        "id": "NU7HXvqU9qHl",
        "colab_type": "text"
      },
      "source": [
        "ลองดูค่า Accuracy"
      ]
    },
    {
      "cell_type": "code",
      "metadata": {
        "id": "m-utm_IlDdgd",
        "colab_type": "code",
        "outputId": "ea862c1e-3141-4c14-aa0c-4aae4e87c782",
        "colab": {
          "base_uri": "https://localhost:8080/",
          "height": 34
        }
      },
      "source": [
        "clf.score(X_test,y_test)"
      ],
      "execution_count": 0,
      "outputs": [
        {
          "output_type": "execute_result",
          "data": {
            "text/plain": [
              "1.0"
            ]
          },
          "metadata": {
            "tags": []
          },
          "execution_count": 36
        }
      ]
    },
    {
      "cell_type": "markdown",
      "metadata": {
        "id": "4DOklD6D9tm2",
        "colab_type": "text"
      },
      "source": [
        "Confusion Matrix"
      ]
    },
    {
      "cell_type": "code",
      "metadata": {
        "id": "Ol5eWiggs6K4",
        "colab_type": "code",
        "outputId": "96363002-e930-47ae-eb5c-e1bc780b4e6d",
        "colab": {
          "base_uri": "https://localhost:8080/",
          "height": 67
        }
      },
      "source": [
        "y_pred = clf.predict(X_test)\n",
        "c = confusion_matrix(y_test,y_pred)\n",
        "c"
      ],
      "execution_count": 0,
      "outputs": [
        {
          "output_type": "execute_result",
          "data": {
            "text/plain": [
              "array([[11,  0,  0],\n",
              "       [ 0, 10,  0],\n",
              "       [ 0,  0, 17]])"
            ]
          },
          "metadata": {
            "tags": []
          },
          "execution_count": 37
        }
      ]
    },
    {
      "cell_type": "markdown",
      "metadata": {
        "id": "HUjAfcOy9x5B",
        "colab_type": "text"
      },
      "source": [
        "F1 Score ของแต่ละ Class"
      ]
    },
    {
      "cell_type": "code",
      "metadata": {
        "id": "iu2kxOvisWTh",
        "colab_type": "code",
        "outputId": "6db8a287-7e95-4382-dfd0-48d27812e44f",
        "colab": {
          "base_uri": "https://localhost:8080/",
          "height": 34
        }
      },
      "source": [
        "f1 = f1_score(y_test,y_pred,average=None)\n",
        "f1"
      ],
      "execution_count": 0,
      "outputs": [
        {
          "output_type": "execute_result",
          "data": {
            "text/plain": [
              "array([1., 1., 1.])"
            ]
          },
          "metadata": {
            "tags": []
          },
          "execution_count": 38
        }
      ]
    },
    {
      "cell_type": "markdown",
      "metadata": {
        "id": "Cbrs8XCt90HY",
        "colab_type": "text"
      },
      "source": [
        " plot เพื่อดู เส้น Hyperplane ที่เป็นตัวแบ่งแต่ละกลุ่ม"
      ]
    },
    {
      "cell_type": "code",
      "metadata": {
        "id": "uEm5P3nYEumF",
        "colab_type": "code",
        "outputId": "423e2a84-2eff-49cf-c998-f7bd7ce1be54",
        "colab": {
          "base_uri": "https://localhost:8080/",
          "height": 265
        }
      },
      "source": [
        "a = np.linspace(9,30)\n",
        "plt.scatter(X[:,0],X[:,1],c=data.target)\n",
        "plt.plot(a,(-clf.coef_[2,0]*a - clf.intercept_[2])/clf.coef_[2,1],'r')\n",
        "plt.plot(a,(-clf.coef_[1,0]*a - clf.intercept_[1])/clf.coef_[1,1],'g')\n",
        "plt.plot(a,(-clf.coef_[0,0]*a - clf.intercept_[0])/clf.coef_[0,1],'b');"
      ],
      "execution_count": 0,
      "outputs": [
        {
          "output_type": "display_data",
          "data": {
            "image/png": "[encoded data removed]",
            "text/plain": [
              "<Figure size 432x288 with 1 Axes>"
            ]
          },
          "metadata": {
            "tags": []
          }
        }
      ]
    },
    {
      "cell_type": "markdown",
      "metadata": {
        "id": "tUKeAcGQ-BVE",
        "colab_type": "text"
      },
      "source": [
        "ลองดูเป็น Region จะเห็นภาพการแบ่งกลุ่มของ SVM ได้ชัดเจนยิ่งขึ้น"
      ]
    },
    {
      "cell_type": "code",
      "metadata": {
        "id": "CBP6xVi_H4F4",
        "colab_type": "code",
        "outputId": "88286ffc-b014-4934-f079-4e6d89fb3ebb",
        "colab": {
          "base_uri": "https://localhost:8080/",
          "height": 318
        }
      },
      "source": [
        "plot_decision_regions(X, y, clf=clf, legend=2);"
      ],
      "execution_count": 0,
      "outputs": [
        {
          "output_type": "stream",
          "text": [
            "/usr/local/lib/python3.6/dist-packages/mlxtend/plotting/decision_regions.py:244: MatplotlibDeprecationWarning: Passing unsupported keyword arguments to axis() will raise a TypeError in 3.3.\n",
            "  ax.axis(xmin=xx.min(), xmax=xx.max(), y_min=yy.min(), y_max=yy.max())\n"
          ],
          "name": "stderr"
        },
        {
          "output_type": "display_data",
          "data": {
            "image/png": "[encoded data removed]",
            "text/plain": [
              "<Figure size 432x288 with 1 Axes>"
            ]
          },
          "metadata": {
            "tags": []
          }
        }
      ]
    }
  ]
}