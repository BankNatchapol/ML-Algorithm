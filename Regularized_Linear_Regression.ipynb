{
  "nbformat": 4,
  "nbformat_minor": 0,
  "metadata": {
    "colab": {
      "name": "Regularized Linear Regression.ipynb",
      "provenance": [],
      "collapsed_sections": [],
      "authorship_tag": "ABX9TyPp/+f7zm55UaUXgsdRFGG7",
      "include_colab_link": true
    },
    "kernelspec": {
      "name": "python3",
      "display_name": "Python 3"
    }
  },
  "cells": [
    {
      "cell_type": "markdown",
      "metadata": {
        "id": "view-in-github",
        "colab_type": "text"
      },
      "source": [
        "<a href=\"https://colab.research.google.com/github/BankNatchapol/ML-Algorithm/blob/master/Regularized_Linear_Regression.ipynb\" target=\"_parent\"><img src=\"https://colab.research.google.com/assets/colab-badge.svg\" alt=\"Open In Colab\"/></a>"
      ]
    },
    {
      "cell_type": "markdown",
      "metadata": {
        "id": "3jFAp7klK6r9",
        "colab_type": "text"
      },
      "source": [
        "# **Regularized Linear Regression**\n",
        "---\n",
        "\n",
        "ในการทำทำ Linear Regression ในบางกรณีที่เรามี feature ที่ใช้ในการ train มากเกินไปจะทำให้เกินปัฯหาที่เรียกว่า Overfitting ขึ้น<br> \n",
        "Overfitting คือ ปัญหาที่เวลามี feature ในการ train มากเกินไปจะทำให้ function ที่เราประมาณได้มีความ fit กับ training set มากเกินไปทำให้เวลาที่นำไปใช้กับข้อมูลอื่นๆจะ fail ในการทำนาย<br>\n",
        "ซึ่งก็จะมีหลายวิธีในการจัดการกับ Overfitting หนึ่งในนั้นก็คือ Regularization \n",
        "![alt text](http://scikit-learn.org/stable/_images/sphx_glr_plot_underfitting_overfitting_001.png) \n",
        "<br>\n",
        "<center>\n",
        "\n",
        "\n",
        "<b>idea: </b> สมมุติสมการในevent ต่างๆเป็นดังนี้\n",
        "<p><b>Underfit  : </b>&#8195$\\theta_0+\\theta_1x$&#8195 <p>\n",
        "<p><b>Good fit  : </b>$\\theta_0+\\theta_1x+\\theta_2x^2$</p>\n",
        "<p><b>Overfit  : </b>$\\theta_0+\\theta_1x+\\theta_2x^2+\\theta_3x^3+\\theta_4x^4$</p>\n",
        "</center>\n",
        "<br>\n",
        "จะสังเกตได้ว่า ในกรณีของ underfit นั้นวิธีการแก้ไขก็คือทำให้ $\\theta_2$ มีค่าเพิ่มขึ้นจนมีพจน์เท่ากับ Good fit <br>\n",
        "ในกรณีของ overfit จะเห็นได้ว่ามีพจน์ $\\theta_3$ และ $\\theta_4 $เกินมา ดังนั้นถ้าเราลด $\\theta_3$ และ $\\theta_4 $ ให้เข้าใกล้ 0 จะกลายเป็น Good fit ได้\n",
        "<br><br>\n",
        "ซึ่งในการปรับ parameter นั้นเราสามารถทำได้จากการปรับ cost function เป็นในรูปแบบนี้ <br><br>\n",
        "\\begin{equation}\n",
        "Cost\\;Function\\;:\\;\\;\n",
        "J(\\theta) = \\frac{1}{2m}(\\sum^m_{i=1}(h_\\theta(x^{(i)}) - y^{(i)})^2+\\lambda\\sum^m_{j=1}\\theta^2_j)\n",
        "\\end{equation}<br>\n",
        "ซึ่งจะเห็นว่ามีการเพิ่มพจน์ที่เป็น Regularization term เข้ามา เพิ่มเวลาที่เราใช้ Algorithm ในการหาค่า min ของ cost function จะทำให้เวลาคิด พจน์ $\\theta$ ที่มีค่ามากๆ จะถูกลดค่าลงเยอะ"
      ]
    },
    {
      "cell_type": "code",
      "metadata": {
        "id": "XPt6I-x10RPi",
        "colab_type": "code",
        "colab": {}
      },
      "source": [
        "import numpy as np\n",
        "import pandas as pd\n",
        "import matplotlib.pyplot as plt\n",
        "from sklearn.datasets import load_boston"
      ],
      "execution_count": 0,
      "outputs": []
    },
    {
      "cell_type": "markdown",
      "metadata": {
        "id": "weGpE6Ove-eZ",
        "colab_type": "text"
      },
      "source": [
        "ทำการสร้าง function hypothesis, cost function และ ใช้ Gradient Descent ในการ หาค่า minimum โดย Gradient ของ cost function จะเป็น<br><br>\n",
        "\\begin{equation}\n",
        "\\theta_0 := \\theta_0-\\alpha\\frac{1}{m}\\sum^m_{i=1}(h_\\theta(x^{(i)}) - y^{(i)})x^{(i)}_0\n",
        "\\end{equation}\n",
        "<br>\n",
        "\\begin{equation}\n",
        "\\theta_j := \\theta_j-\\alpha(\\frac{1}{m}\\sum^m_{i=1}(h_\\theta(x^{(i)}) - y^{(i)})x^{(i)}_j +\\frac{\\lambda}{m}\\theta_j)\n",
        "\\end{equation}<br><br>\n",
        "โดยที่ในพจน์ 0 ไม่มี regularized term เพราะมันไม่มี feature ในส่วนนั้น เราจึงไม่จำเป็นต้อง regularize มัน "
      ]
    },
    {
      "cell_type": "code",
      "metadata": {
        "id": "XJo3jidQ3udN",
        "colab_type": "code",
        "colab": {}
      },
      "source": [
        "def linHypo(theta,x):\n",
        "  return np.dot(theta.T,x.T).T\n",
        "\n",
        "def rcost(theta,x,y):\n",
        "  cost = linHypo(theta,x) - y\n",
        "  return cost\n",
        "  \n",
        "def linCostReg(theta,x,y,lamb=1):\n",
        "  m = len(y)\n",
        "  o = np.ones([1,len(y)])\n",
        "  cost = np.dot(o,rcost(theta,x,y)**2)\n",
        "  o1 = np.ones([1,len(x[0,:])])\n",
        "  o1[:,0] = 0\n",
        "  reg = lamb*(np.dot(o1,theta**2))\n",
        "  J = (1/(2*m))*(cost+reg)\n",
        "  return J\n",
        "\n",
        "def linGrad(theta,x,y,lamb=1,alpha = 0.01):\n",
        "  m = len(y) \n",
        "  frac = 1-(alpha*lamb/m)\n",
        "  mfrac = frac * np.ones([len(x[0,:]),1])\n",
        "  mfrac[0,:] = 1 \n",
        "  theta = theta*mfrac - (alpha/m)*np.dot(x.T,rcost(theta,x,y))\n",
        "  return theta"
      ],
      "execution_count": 0,
      "outputs": []
    },
    {
      "cell_type": "markdown",
      "metadata": {
        "id": "EwQfRFXuhyKN",
        "colab_type": "text"
      },
      "source": [
        "ทำการ load boston dataset เพื่อใช้ในการทำ Linear Regression"
      ]
    },
    {
      "cell_type": "code",
      "metadata": {
        "id": "eix-n3LKjLVE",
        "colab_type": "code",
        "outputId": "af9ecec0-2db3-49e4-f63b-58b6e7b07249",
        "colab": {
          "base_uri": "https://localhost:8080/",
          "height": 195
        }
      },
      "source": [
        "[x,y] = load_boston(return_X_y=True) # boston housing datasets\n",
        "y = y.reshape(len(y),1)\n",
        "df = pd.DataFrame(x) # create dataframe\n",
        "df.head()"
      ],
      "execution_count": 0,
      "outputs": [
        {
          "output_type": "execute_result",
          "data": {
            "text/html": [
              "<div>\n",
              "<style scoped>\n",
              "    .dataframe tbody tr th:only-of-type {\n",
              "        vertical-align: middle;\n",
              "    }\n",
              "\n",
              "    .dataframe tbody tr th {\n",
              "        vertical-align: top;\n",
              "    }\n",
              "\n",
              "    .dataframe thead th {\n",
              "        text-align: right;\n",
              "    }\n",
              "</style>\n",
              "<table border=\"1\" class=\"dataframe\">\n",
              "  <thead>\n",
              "    <tr style=\"text-align: right;\">\n",
              "      <th></th>\n",
              "      <th>0</th>\n",
              "      <th>1</th>\n",
              "      <th>2</th>\n",
              "      <th>3</th>\n",
              "      <th>4</th>\n",
              "      <th>5</th>\n",
              "      <th>6</th>\n",
              "      <th>7</th>\n",
              "      <th>8</th>\n",
              "      <th>9</th>\n",
              "      <th>10</th>\n",
              "      <th>11</th>\n",
              "      <th>12</th>\n",
              "    </tr>\n",
              "  </thead>\n",
              "  <tbody>\n",
              "    <tr>\n",
              "      <th>0</th>\n",
              "      <td>0.00632</td>\n",
              "      <td>18.0</td>\n",
              "      <td>2.31</td>\n",
              "      <td>0.0</td>\n",
              "      <td>0.538</td>\n",
              "      <td>6.575</td>\n",
              "      <td>65.2</td>\n",
              "      <td>4.0900</td>\n",
              "      <td>1.0</td>\n",
              "      <td>296.0</td>\n",
              "      <td>15.3</td>\n",
              "      <td>396.90</td>\n",
              "      <td>4.98</td>\n",
              "    </tr>\n",
              "    <tr>\n",
              "      <th>1</th>\n",
              "      <td>0.02731</td>\n",
              "      <td>0.0</td>\n",
              "      <td>7.07</td>\n",
              "      <td>0.0</td>\n",
              "      <td>0.469</td>\n",
              "      <td>6.421</td>\n",
              "      <td>78.9</td>\n",
              "      <td>4.9671</td>\n",
              "      <td>2.0</td>\n",
              "      <td>242.0</td>\n",
              "      <td>17.8</td>\n",
              "      <td>396.90</td>\n",
              "      <td>9.14</td>\n",
              "    </tr>\n",
              "    <tr>\n",
              "      <th>2</th>\n",
              "      <td>0.02729</td>\n",
              "      <td>0.0</td>\n",
              "      <td>7.07</td>\n",
              "      <td>0.0</td>\n",
              "      <td>0.469</td>\n",
              "      <td>7.185</td>\n",
              "      <td>61.1</td>\n",
              "      <td>4.9671</td>\n",
              "      <td>2.0</td>\n",
              "      <td>242.0</td>\n",
              "      <td>17.8</td>\n",
              "      <td>392.83</td>\n",
              "      <td>4.03</td>\n",
              "    </tr>\n",
              "    <tr>\n",
              "      <th>3</th>\n",
              "      <td>0.03237</td>\n",
              "      <td>0.0</td>\n",
              "      <td>2.18</td>\n",
              "      <td>0.0</td>\n",
              "      <td>0.458</td>\n",
              "      <td>6.998</td>\n",
              "      <td>45.8</td>\n",
              "      <td>6.0622</td>\n",
              "      <td>3.0</td>\n",
              "      <td>222.0</td>\n",
              "      <td>18.7</td>\n",
              "      <td>394.63</td>\n",
              "      <td>2.94</td>\n",
              "    </tr>\n",
              "    <tr>\n",
              "      <th>4</th>\n",
              "      <td>0.06905</td>\n",
              "      <td>0.0</td>\n",
              "      <td>2.18</td>\n",
              "      <td>0.0</td>\n",
              "      <td>0.458</td>\n",
              "      <td>7.147</td>\n",
              "      <td>54.2</td>\n",
              "      <td>6.0622</td>\n",
              "      <td>3.0</td>\n",
              "      <td>222.0</td>\n",
              "      <td>18.7</td>\n",
              "      <td>396.90</td>\n",
              "      <td>5.33</td>\n",
              "    </tr>\n",
              "  </tbody>\n",
              "</table>\n",
              "</div>"
            ],
            "text/plain": [
              "        0     1     2    3      4   ...   8      9     10      11    12\n",
              "0  0.00632  18.0  2.31  0.0  0.538  ...  1.0  296.0  15.3  396.90  4.98\n",
              "1  0.02731   0.0  7.07  0.0  0.469  ...  2.0  242.0  17.8  396.90  9.14\n",
              "2  0.02729   0.0  7.07  0.0  0.469  ...  2.0  242.0  17.8  392.83  4.03\n",
              "3  0.03237   0.0  2.18  0.0  0.458  ...  3.0  222.0  18.7  394.63  2.94\n",
              "4  0.06905   0.0  2.18  0.0  0.458  ...  3.0  222.0  18.7  396.90  5.33\n",
              "\n",
              "[5 rows x 13 columns]"
            ]
          },
          "metadata": {
            "tags": []
          },
          "execution_count": 7
        }
      ]
    },
    {
      "cell_type": "code",
      "metadata": {
        "id": "EeY7CkH9jN1f",
        "colab_type": "code",
        "outputId": "f3402eec-e4ed-450f-e5fa-749d84ae9be0",
        "colab": {
          "base_uri": "https://localhost:8080/",
          "height": 195
        }
      },
      "source": [
        "target = pd.DataFrame(y,columns=['PRICES']) # target prices\n",
        "target.head()"
      ],
      "execution_count": 0,
      "outputs": [
        {
          "output_type": "execute_result",
          "data": {
            "text/html": [
              "<div>\n",
              "<style scoped>\n",
              "    .dataframe tbody tr th:only-of-type {\n",
              "        vertical-align: middle;\n",
              "    }\n",
              "\n",
              "    .dataframe tbody tr th {\n",
              "        vertical-align: top;\n",
              "    }\n",
              "\n",
              "    .dataframe thead th {\n",
              "        text-align: right;\n",
              "    }\n",
              "</style>\n",
              "<table border=\"1\" class=\"dataframe\">\n",
              "  <thead>\n",
              "    <tr style=\"text-align: right;\">\n",
              "      <th></th>\n",
              "      <th>PRICES</th>\n",
              "    </tr>\n",
              "  </thead>\n",
              "  <tbody>\n",
              "    <tr>\n",
              "      <th>0</th>\n",
              "      <td>24.0</td>\n",
              "    </tr>\n",
              "    <tr>\n",
              "      <th>1</th>\n",
              "      <td>21.6</td>\n",
              "    </tr>\n",
              "    <tr>\n",
              "      <th>2</th>\n",
              "      <td>34.7</td>\n",
              "    </tr>\n",
              "    <tr>\n",
              "      <th>3</th>\n",
              "      <td>33.4</td>\n",
              "    </tr>\n",
              "    <tr>\n",
              "      <th>4</th>\n",
              "      <td>36.2</td>\n",
              "    </tr>\n",
              "  </tbody>\n",
              "</table>\n",
              "</div>"
            ],
            "text/plain": [
              "   PRICES\n",
              "0    24.0\n",
              "1    21.6\n",
              "2    34.7\n",
              "3    33.4\n",
              "4    36.2"
            ]
          },
          "metadata": {
            "tags": []
          },
          "execution_count": 8
        }
      ]
    },
    {
      "cell_type": "markdown",
      "metadata": {
        "id": "Ej6SgQqYh8E6",
        "colab_type": "text"
      },
      "source": [
        "ทำ feature scaling ด้วย Z-score standardization"
      ]
    },
    {
      "cell_type": "code",
      "metadata": {
        "id": "Xb_3Ax81qnOw",
        "colab_type": "code",
        "outputId": "50c35e4d-b8df-4292-fc37-e1be7aed4794",
        "colab": {
          "base_uri": "https://localhost:8080/",
          "height": 195
        }
      },
      "source": [
        "def scaling(x): #scaling input \n",
        "  std = np.std(x)\n",
        "  mean = np.mean(x)\n",
        "  return (x-mean)/std\n",
        "df1 = scaling(df)\n",
        "df1.head()"
      ],
      "execution_count": 0,
      "outputs": [
        {
          "output_type": "execute_result",
          "data": {
            "text/html": [
              "<div>\n",
              "<style scoped>\n",
              "    .dataframe tbody tr th:only-of-type {\n",
              "        vertical-align: middle;\n",
              "    }\n",
              "\n",
              "    .dataframe tbody tr th {\n",
              "        vertical-align: top;\n",
              "    }\n",
              "\n",
              "    .dataframe thead th {\n",
              "        text-align: right;\n",
              "    }\n",
              "</style>\n",
              "<table border=\"1\" class=\"dataframe\">\n",
              "  <thead>\n",
              "    <tr style=\"text-align: right;\">\n",
              "      <th></th>\n",
              "      <th>0</th>\n",
              "      <th>1</th>\n",
              "      <th>2</th>\n",
              "      <th>3</th>\n",
              "      <th>4</th>\n",
              "      <th>5</th>\n",
              "      <th>6</th>\n",
              "      <th>7</th>\n",
              "      <th>8</th>\n",
              "      <th>9</th>\n",
              "      <th>10</th>\n",
              "      <th>11</th>\n",
              "      <th>12</th>\n",
              "    </tr>\n",
              "  </thead>\n",
              "  <tbody>\n",
              "    <tr>\n",
              "      <th>0</th>\n",
              "      <td>-0.419782</td>\n",
              "      <td>0.284830</td>\n",
              "      <td>-1.287909</td>\n",
              "      <td>-0.272599</td>\n",
              "      <td>-0.144217</td>\n",
              "      <td>0.413672</td>\n",
              "      <td>-0.120013</td>\n",
              "      <td>0.140214</td>\n",
              "      <td>-0.982843</td>\n",
              "      <td>-0.666608</td>\n",
              "      <td>-1.459000</td>\n",
              "      <td>0.441052</td>\n",
              "      <td>-1.075562</td>\n",
              "    </tr>\n",
              "    <tr>\n",
              "      <th>1</th>\n",
              "      <td>-0.417339</td>\n",
              "      <td>-0.487722</td>\n",
              "      <td>-0.593381</td>\n",
              "      <td>-0.272599</td>\n",
              "      <td>-0.740262</td>\n",
              "      <td>0.194274</td>\n",
              "      <td>0.367166</td>\n",
              "      <td>0.557160</td>\n",
              "      <td>-0.867883</td>\n",
              "      <td>-0.987329</td>\n",
              "      <td>-0.303094</td>\n",
              "      <td>0.441052</td>\n",
              "      <td>-0.492439</td>\n",
              "    </tr>\n",
              "    <tr>\n",
              "      <th>2</th>\n",
              "      <td>-0.417342</td>\n",
              "      <td>-0.487722</td>\n",
              "      <td>-0.593381</td>\n",
              "      <td>-0.272599</td>\n",
              "      <td>-0.740262</td>\n",
              "      <td>1.282714</td>\n",
              "      <td>-0.265812</td>\n",
              "      <td>0.557160</td>\n",
              "      <td>-0.867883</td>\n",
              "      <td>-0.987329</td>\n",
              "      <td>-0.303094</td>\n",
              "      <td>0.396427</td>\n",
              "      <td>-1.208727</td>\n",
              "    </tr>\n",
              "    <tr>\n",
              "      <th>3</th>\n",
              "      <td>-0.416750</td>\n",
              "      <td>-0.487722</td>\n",
              "      <td>-1.306878</td>\n",
              "      <td>-0.272599</td>\n",
              "      <td>-0.835284</td>\n",
              "      <td>1.016303</td>\n",
              "      <td>-0.809889</td>\n",
              "      <td>1.077737</td>\n",
              "      <td>-0.752922</td>\n",
              "      <td>-1.106115</td>\n",
              "      <td>0.113032</td>\n",
              "      <td>0.416163</td>\n",
              "      <td>-1.361517</td>\n",
              "    </tr>\n",
              "    <tr>\n",
              "      <th>4</th>\n",
              "      <td>-0.412482</td>\n",
              "      <td>-0.487722</td>\n",
              "      <td>-1.306878</td>\n",
              "      <td>-0.272599</td>\n",
              "      <td>-0.835284</td>\n",
              "      <td>1.228577</td>\n",
              "      <td>-0.511180</td>\n",
              "      <td>1.077737</td>\n",
              "      <td>-0.752922</td>\n",
              "      <td>-1.106115</td>\n",
              "      <td>0.113032</td>\n",
              "      <td>0.441052</td>\n",
              "      <td>-1.026501</td>\n",
              "    </tr>\n",
              "  </tbody>\n",
              "</table>\n",
              "</div>"
            ],
            "text/plain": [
              "         0         1         2   ...        10        11        12\n",
              "0 -0.419782  0.284830 -1.287909  ... -1.459000  0.441052 -1.075562\n",
              "1 -0.417339 -0.487722 -0.593381  ... -0.303094  0.441052 -0.492439\n",
              "2 -0.417342 -0.487722 -0.593381  ... -0.303094  0.396427 -1.208727\n",
              "3 -0.416750 -0.487722 -1.306878  ...  0.113032  0.416163 -1.361517\n",
              "4 -0.412482 -0.487722 -1.306878  ...  0.113032  0.441052 -1.026501\n",
              "\n",
              "[5 rows x 13 columns]"
            ]
          },
          "metadata": {
            "tags": []
          },
          "execution_count": 9
        }
      ]
    },
    {
      "cell_type": "code",
      "metadata": {
        "id": "P3G-noT4spDB",
        "colab_type": "code",
        "colab": {}
      },
      "source": [
        "x1 = np.ones([x.shape[0],x.shape[1]+1]) # add ones column\n",
        "x1[:,1:] = df1"
      ],
      "execution_count": 0,
      "outputs": []
    },
    {
      "cell_type": "markdown",
      "metadata": {
        "id": "VY3eoMc6ihci",
        "colab_type": "text"
      },
      "source": [
        "กำหนด $initial \\;\\theta, \\alpha\\;และ\\;\\lambda$"
      ]
    },
    {
      "cell_type": "code",
      "metadata": {
        "id": "hnKP10PIq6Fo",
        "colab_type": "code",
        "colab": {}
      },
      "source": [
        "theta = np.zeros([x.shape[1]+1,1])\n",
        "alpha = 0.01\n",
        "lamb = 1"
      ],
      "execution_count": 0,
      "outputs": []
    },
    {
      "cell_type": "markdown",
      "metadata": {
        "id": "JHMc2U29i165",
        "colab_type": "text"
      },
      "source": [
        "run Gradient Descent เพื่อหาค่า $\\theta$"
      ]
    },
    {
      "cell_type": "code",
      "metadata": {
        "id": "MbtkWGztrJBt",
        "colab_type": "code",
        "outputId": "e0369e18-f9da-4180-8bd5-343089dc25e5",
        "colab": {
          "base_uri": "https://localhost:8080/",
          "height": 252
        }
      },
      "source": [
        "p = []\n",
        "J = linCostReg(theta,x1,y,lamb)+1\n",
        "while J-linCostReg(theta,x1,y,lamb)>0.00000000000001:\n",
        "  J = linCostReg(theta,x1,y,lamb)\n",
        "  p.append(J[0])\n",
        "  theta = linGrad(theta,x1,y,lamb,alpha)\n",
        "theta "
      ],
      "execution_count": 0,
      "outputs": [
        {
          "output_type": "execute_result",
          "data": {
            "text/plain": [
              "array([[ 2.25328063e+01],\n",
              "       [-9.19870420e-01],\n",
              "       [ 1.06645946e+00],\n",
              "       [ 1.17379973e-01],\n",
              "       [ 6.85127626e-01],\n",
              "       [-2.02900928e+00],\n",
              "       [ 2.68275465e+00],\n",
              "       [ 1.31577285e-02],\n",
              "       [-3.07734004e+00],\n",
              "       [ 2.59152529e+00],\n",
              "       [-2.01054385e+00],\n",
              "       [-2.05238410e+00],\n",
              "       [ 8.48848301e-01],\n",
              "       [-3.73066599e+00]])"
            ]
          },
          "metadata": {
            "tags": []
          },
          "execution_count": 12
        }
      ]
    },
    {
      "cell_type": "markdown",
      "metadata": {
        "id": "7KwnH1yai85q",
        "colab_type": "text"
      },
      "source": [
        "ลอง plot cost function เพื่อดูว่าผลลัพท์เป็นไปตามทฤษฏีไหม"
      ]
    },
    {
      "cell_type": "code",
      "metadata": {
        "id": "rJWoyZYdEulr",
        "colab_type": "code",
        "outputId": "4a8ff0ef-463a-4c1c-df50-216416253f7c",
        "colab": {
          "base_uri": "https://localhost:8080/",
          "height": 281
        }
      },
      "source": [
        "plt.plot(range(int(len(p)/50)),p[:int(len(p)/50)]);\n",
        "plt.title('Cost function');"
      ],
      "execution_count": 0,
      "outputs": [
        {
          "output_type": "display_data",
          "data": {
            "image/png": "[encoded data removed]",
            "text/plain": [
              "<Figure size 432x288 with 1 Axes>"
            ]
          },
          "metadata": {
            "tags": []
          }
        }
      ]
    },
    {
      "cell_type": "markdown",
      "metadata": {
        "id": "GCrn1domjPMy",
        "colab_type": "text"
      },
      "source": [
        "ลองดูการใช้ $\\lambda$ ค่าต่างๆ"
      ]
    },
    {
      "cell_type": "code",
      "metadata": {
        "id": "htsM1vSM_03y",
        "colab_type": "code",
        "outputId": "5627684e-8710-43c9-91c9-a83ec30ca644",
        "colab": {
          "base_uri": "https://localhost:8080/",
          "height": 295
        }
      },
      "source": [
        "q = []\n",
        "for i in np.arange(0,1000,0.01):\n",
        "  q.append(linCostReg(theta,x1,y,i)[0])\n",
        "plt.plot(range(100000),q)\n",
        "plt.title('Linear Regularization Lambda comparison')\n",
        "plt.xlabel('Lambda')\n",
        "plt.ylabel('Cost');"
      ],
      "execution_count": 0,
      "outputs": [
        {
          "output_type": "display_data",
          "data": {
            "image/png": "[encoded data removed]",
            "text/plain": [
              "<Figure size 432x288 with 1 Axes>"
            ]
          },
          "metadata": {
            "tags": []
          }
        }
      ]
    },
    {
      "cell_type": "markdown",
      "metadata": {
        "id": "ZsPoTqwUjXfy",
        "colab_type": "text"
      },
      "source": [
        "จะพบว่าในกรณีนี้การทำ Regularization ทำให้ผลลัพท์แย่ลง เนื่องจากจำนวน feature มีน้อยอยู่แล้วจึงไม่เกิดปัญหา Overfitting การทำ Regularization อาจจะยิ่งทำให้เกิดปัญหา underfitting แทน"
      ]
    }
  ]
}